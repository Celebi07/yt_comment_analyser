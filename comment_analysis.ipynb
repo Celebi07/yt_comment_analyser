{
  "nbformat": 4,
  "nbformat_minor": 0,
  "metadata": {
    "colab": {
      "name": "comment_analysis.ipynb",
      "provenance": [],
      "collapsed_sections": []
    },
    "kernelspec": {
      "name": "python3",
      "display_name": "Python 3"
    },
    "language_info": {
      "name": "python"
    }
  },
  "cells": [
    {
      "cell_type": "markdown",
      "source": [
        "## Importing libraries and dataset"
      ],
      "metadata": {
        "id": "xRERxJ0WcZlA"
      }
    },
    {
      "cell_type": "code",
      "metadata": {
        "id": "2oOu-Q7-zp3_"
      },
      "source": [
        "import numpy as np\n",
        "import pandas as pd\n",
        "import matplotlib.pyplot as plt\n",
        "from nltk.stem import PorterStemmer\n",
        "import tensorflow as tf\n",
        "from tensorflow.keras import layers\n",
        "import random\n",
        "import tensorflow_hub as hub\n",
        "from sklearn.metrics import confusion_matrix, ConfusionMatrixDisplay\n",
        "import seaborn as sns\n",
        "from sklearn.model_selection import train_test_split"
      ],
      "execution_count": null,
      "outputs": []
    },
    {
      "cell_type": "code",
      "source": [
        "df = pd.read_csv(\"comments.csv\")"
      ],
      "metadata": {
        "id": "FCjopg_E5E7K"
      },
      "execution_count": null,
      "outputs": []
    },
    {
      "cell_type": "code",
      "source": [
        "df"
      ],
      "metadata": {
        "colab": {
          "base_uri": "https://localhost:8080/",
          "height": 423
        },
        "id": "xqegfIYjk1hn",
        "outputId": "91a4d9d2-cc47-4fc4-e142-d9cc9e5c3111"
      },
      "execution_count": null,
      "outputs": [
        {
          "output_type": "execute_result",
          "data": {
            "text/plain": [
              "                                               comments target\n",
              "0     This guy actually puts in a lot of effort in h...      s\n",
              "1     I've learnt HTML, CSS, Javascript and Python a...      s\n",
              "2     Watched this video one year ago to start my co...      s\n",
              "3     His teaching is the most effective I've found ...      s\n",
              "4     I finally finished the whole 4 hours, and now ...      p\n",
              "...                                                 ...    ...\n",
              "2474          Who are those 9 fools disliked the video.      q\n",
              "2475                            Anyone from karnataka??      q\n",
              "2476                              6th person to comment      o\n",
              "2477                                             Things      o\n",
              "2478  Bruh I done watched about a dozen of these so ...      q\n",
              "\n",
              "[2479 rows x 2 columns]"
            ],
            "text/html": [
              "\n",
              "  <div id=\"df-df8c9141-f575-4e8b-a370-5a631df87f3f\">\n",
              "    <div class=\"colab-df-container\">\n",
              "      <div>\n",
              "<style scoped>\n",
              "    .dataframe tbody tr th:only-of-type {\n",
              "        vertical-align: middle;\n",
              "    }\n",
              "\n",
              "    .dataframe tbody tr th {\n",
              "        vertical-align: top;\n",
              "    }\n",
              "\n",
              "    .dataframe thead th {\n",
              "        text-align: right;\n",
              "    }\n",
              "</style>\n",
              "<table border=\"1\" class=\"dataframe\">\n",
              "  <thead>\n",
              "    <tr style=\"text-align: right;\">\n",
              "      <th></th>\n",
              "      <th>comments</th>\n",
              "      <th>target</th>\n",
              "    </tr>\n",
              "  </thead>\n",
              "  <tbody>\n",
              "    <tr>\n",
              "      <th>0</th>\n",
              "      <td>This guy actually puts in a lot of effort in h...</td>\n",
              "      <td>s</td>\n",
              "    </tr>\n",
              "    <tr>\n",
              "      <th>1</th>\n",
              "      <td>I've learnt HTML, CSS, Javascript and Python a...</td>\n",
              "      <td>s</td>\n",
              "    </tr>\n",
              "    <tr>\n",
              "      <th>2</th>\n",
              "      <td>Watched this video one year ago to start my co...</td>\n",
              "      <td>s</td>\n",
              "    </tr>\n",
              "    <tr>\n",
              "      <th>3</th>\n",
              "      <td>His teaching is the most effective I've found ...</td>\n",
              "      <td>s</td>\n",
              "    </tr>\n",
              "    <tr>\n",
              "      <th>4</th>\n",
              "      <td>I finally finished the whole 4 hours, and now ...</td>\n",
              "      <td>p</td>\n",
              "    </tr>\n",
              "    <tr>\n",
              "      <th>...</th>\n",
              "      <td>...</td>\n",
              "      <td>...</td>\n",
              "    </tr>\n",
              "    <tr>\n",
              "      <th>2474</th>\n",
              "      <td>Who are those 9 fools disliked the video.</td>\n",
              "      <td>q</td>\n",
              "    </tr>\n",
              "    <tr>\n",
              "      <th>2475</th>\n",
              "      <td>Anyone from karnataka??</td>\n",
              "      <td>q</td>\n",
              "    </tr>\n",
              "    <tr>\n",
              "      <th>2476</th>\n",
              "      <td>6th person to comment</td>\n",
              "      <td>o</td>\n",
              "    </tr>\n",
              "    <tr>\n",
              "      <th>2477</th>\n",
              "      <td>Things</td>\n",
              "      <td>o</td>\n",
              "    </tr>\n",
              "    <tr>\n",
              "      <th>2478</th>\n",
              "      <td>Bruh I done watched about a dozen of these so ...</td>\n",
              "      <td>q</td>\n",
              "    </tr>\n",
              "  </tbody>\n",
              "</table>\n",
              "<p>2479 rows × 2 columns</p>\n",
              "</div>\n",
              "      <button class=\"colab-df-convert\" onclick=\"convertToInteractive('df-df8c9141-f575-4e8b-a370-5a631df87f3f')\"\n",
              "              title=\"Convert this dataframe to an interactive table.\"\n",
              "              style=\"display:none;\">\n",
              "        \n",
              "  <svg xmlns=\"http://www.w3.org/2000/svg\" height=\"24px\"viewBox=\"0 0 24 24\"\n",
              "       width=\"24px\">\n",
              "    <path d=\"M0 0h24v24H0V0z\" fill=\"none\"/>\n",
              "    <path d=\"M18.56 5.44l.94 2.06.94-2.06 2.06-.94-2.06-.94-.94-2.06-.94 2.06-2.06.94zm-11 1L8.5 8.5l.94-2.06 2.06-.94-2.06-.94L8.5 2.5l-.94 2.06-2.06.94zm10 10l.94 2.06.94-2.06 2.06-.94-2.06-.94-.94-2.06-.94 2.06-2.06.94z\"/><path d=\"M17.41 7.96l-1.37-1.37c-.4-.4-.92-.59-1.43-.59-.52 0-1.04.2-1.43.59L10.3 9.45l-7.72 7.72c-.78.78-.78 2.05 0 2.83L4 21.41c.39.39.9.59 1.41.59.51 0 1.02-.2 1.41-.59l7.78-7.78 2.81-2.81c.8-.78.8-2.07 0-2.86zM5.41 20L4 18.59l7.72-7.72 1.47 1.35L5.41 20z\"/>\n",
              "  </svg>\n",
              "      </button>\n",
              "      \n",
              "  <style>\n",
              "    .colab-df-container {\n",
              "      display:flex;\n",
              "      flex-wrap:wrap;\n",
              "      gap: 12px;\n",
              "    }\n",
              "\n",
              "    .colab-df-convert {\n",
              "      background-color: #E8F0FE;\n",
              "      border: none;\n",
              "      border-radius: 50%;\n",
              "      cursor: pointer;\n",
              "      display: none;\n",
              "      fill: #1967D2;\n",
              "      height: 32px;\n",
              "      padding: 0 0 0 0;\n",
              "      width: 32px;\n",
              "    }\n",
              "\n",
              "    .colab-df-convert:hover {\n",
              "      background-color: #E2EBFA;\n",
              "      box-shadow: 0px 1px 2px rgba(60, 64, 67, 0.3), 0px 1px 3px 1px rgba(60, 64, 67, 0.15);\n",
              "      fill: #174EA6;\n",
              "    }\n",
              "\n",
              "    [theme=dark] .colab-df-convert {\n",
              "      background-color: #3B4455;\n",
              "      fill: #D2E3FC;\n",
              "    }\n",
              "\n",
              "    [theme=dark] .colab-df-convert:hover {\n",
              "      background-color: #434B5C;\n",
              "      box-shadow: 0px 1px 3px 1px rgba(0, 0, 0, 0.15);\n",
              "      filter: drop-shadow(0px 1px 2px rgba(0, 0, 0, 0.3));\n",
              "      fill: #FFFFFF;\n",
              "    }\n",
              "  </style>\n",
              "\n",
              "      <script>\n",
              "        const buttonEl =\n",
              "          document.querySelector('#df-df8c9141-f575-4e8b-a370-5a631df87f3f button.colab-df-convert');\n",
              "        buttonEl.style.display =\n",
              "          google.colab.kernel.accessAllowed ? 'block' : 'none';\n",
              "\n",
              "        async function convertToInteractive(key) {\n",
              "          const element = document.querySelector('#df-df8c9141-f575-4e8b-a370-5a631df87f3f');\n",
              "          const dataTable =\n",
              "            await google.colab.kernel.invokeFunction('convertToInteractive',\n",
              "                                                     [key], {});\n",
              "          if (!dataTable) return;\n",
              "\n",
              "          const docLinkHtml = 'Like what you see? Visit the ' +\n",
              "            '<a target=\"_blank\" href=https://colab.research.google.com/notebooks/data_table.ipynb>data table notebook</a>'\n",
              "            + ' to learn more about interactive tables.';\n",
              "          element.innerHTML = '';\n",
              "          dataTable['output_type'] = 'display_data';\n",
              "          await google.colab.output.renderOutput(dataTable, element);\n",
              "          const docLink = document.createElement('div');\n",
              "          docLink.innerHTML = docLinkHtml;\n",
              "          element.appendChild(docLink);\n",
              "        }\n",
              "      </script>\n",
              "    </div>\n",
              "  </div>\n",
              "  "
            ]
          },
          "metadata": {},
          "execution_count": 14
        }
      ]
    },
    {
      "cell_type": "code",
      "source": [
        "for i in range(len(df)):\n",
        "  if df['target'][i] == 's':\n",
        "    df['target'][i] = 'suggestion'\n",
        "  elif df['target'][i] == 'p':\n",
        "    df['target'][i] = 'positive'\n",
        "  elif df['target'][i] == 'o':\n",
        "    df['target'][i] = 'other'\n",
        "  elif df['target'][i] == 'q':\n",
        "    df['target'][i] = 'question'"
      ],
      "metadata": {
        "id": "WcKvkrZyj0gB"
      },
      "execution_count": null,
      "outputs": []
    },
    {
      "cell_type": "code",
      "source": [
        "df.head()"
      ],
      "metadata": {
        "colab": {
          "base_uri": "https://localhost:8080/",
          "height": 206
        },
        "id": "Il4XCu-ECjNV",
        "outputId": "8759393d-5429-4f23-8337-827ef315430e"
      },
      "execution_count": null,
      "outputs": [
        {
          "output_type": "execute_result",
          "data": {
            "text/plain": [
              "                                            comments      target\n",
              "0  This guy actually puts in a lot of effort in h...  suggestion\n",
              "1  I've learnt HTML, CSS, Javascript and Python a...  suggestion\n",
              "2  Watched this video one year ago to start my co...  suggestion\n",
              "3  His teaching is the most effective I've found ...  suggestion\n",
              "4  I finally finished the whole 4 hours, and now ...    positive"
            ],
            "text/html": [
              "\n",
              "  <div id=\"df-2610352d-d5d7-4916-8320-9a8f27e3de1e\">\n",
              "    <div class=\"colab-df-container\">\n",
              "      <div>\n",
              "<style scoped>\n",
              "    .dataframe tbody tr th:only-of-type {\n",
              "        vertical-align: middle;\n",
              "    }\n",
              "\n",
              "    .dataframe tbody tr th {\n",
              "        vertical-align: top;\n",
              "    }\n",
              "\n",
              "    .dataframe thead th {\n",
              "        text-align: right;\n",
              "    }\n",
              "</style>\n",
              "<table border=\"1\" class=\"dataframe\">\n",
              "  <thead>\n",
              "    <tr style=\"text-align: right;\">\n",
              "      <th></th>\n",
              "      <th>comments</th>\n",
              "      <th>target</th>\n",
              "    </tr>\n",
              "  </thead>\n",
              "  <tbody>\n",
              "    <tr>\n",
              "      <th>0</th>\n",
              "      <td>This guy actually puts in a lot of effort in h...</td>\n",
              "      <td>suggestion</td>\n",
              "    </tr>\n",
              "    <tr>\n",
              "      <th>1</th>\n",
              "      <td>I've learnt HTML, CSS, Javascript and Python a...</td>\n",
              "      <td>suggestion</td>\n",
              "    </tr>\n",
              "    <tr>\n",
              "      <th>2</th>\n",
              "      <td>Watched this video one year ago to start my co...</td>\n",
              "      <td>suggestion</td>\n",
              "    </tr>\n",
              "    <tr>\n",
              "      <th>3</th>\n",
              "      <td>His teaching is the most effective I've found ...</td>\n",
              "      <td>suggestion</td>\n",
              "    </tr>\n",
              "    <tr>\n",
              "      <th>4</th>\n",
              "      <td>I finally finished the whole 4 hours, and now ...</td>\n",
              "      <td>positive</td>\n",
              "    </tr>\n",
              "  </tbody>\n",
              "</table>\n",
              "</div>\n",
              "      <button class=\"colab-df-convert\" onclick=\"convertToInteractive('df-2610352d-d5d7-4916-8320-9a8f27e3de1e')\"\n",
              "              title=\"Convert this dataframe to an interactive table.\"\n",
              "              style=\"display:none;\">\n",
              "        \n",
              "  <svg xmlns=\"http://www.w3.org/2000/svg\" height=\"24px\"viewBox=\"0 0 24 24\"\n",
              "       width=\"24px\">\n",
              "    <path d=\"M0 0h24v24H0V0z\" fill=\"none\"/>\n",
              "    <path d=\"M18.56 5.44l.94 2.06.94-2.06 2.06-.94-2.06-.94-.94-2.06-.94 2.06-2.06.94zm-11 1L8.5 8.5l.94-2.06 2.06-.94-2.06-.94L8.5 2.5l-.94 2.06-2.06.94zm10 10l.94 2.06.94-2.06 2.06-.94-2.06-.94-.94-2.06-.94 2.06-2.06.94z\"/><path d=\"M17.41 7.96l-1.37-1.37c-.4-.4-.92-.59-1.43-.59-.52 0-1.04.2-1.43.59L10.3 9.45l-7.72 7.72c-.78.78-.78 2.05 0 2.83L4 21.41c.39.39.9.59 1.41.59.51 0 1.02-.2 1.41-.59l7.78-7.78 2.81-2.81c.8-.78.8-2.07 0-2.86zM5.41 20L4 18.59l7.72-7.72 1.47 1.35L5.41 20z\"/>\n",
              "  </svg>\n",
              "      </button>\n",
              "      \n",
              "  <style>\n",
              "    .colab-df-container {\n",
              "      display:flex;\n",
              "      flex-wrap:wrap;\n",
              "      gap: 12px;\n",
              "    }\n",
              "\n",
              "    .colab-df-convert {\n",
              "      background-color: #E8F0FE;\n",
              "      border: none;\n",
              "      border-radius: 50%;\n",
              "      cursor: pointer;\n",
              "      display: none;\n",
              "      fill: #1967D2;\n",
              "      height: 32px;\n",
              "      padding: 0 0 0 0;\n",
              "      width: 32px;\n",
              "    }\n",
              "\n",
              "    .colab-df-convert:hover {\n",
              "      background-color: #E2EBFA;\n",
              "      box-shadow: 0px 1px 2px rgba(60, 64, 67, 0.3), 0px 1px 3px 1px rgba(60, 64, 67, 0.15);\n",
              "      fill: #174EA6;\n",
              "    }\n",
              "\n",
              "    [theme=dark] .colab-df-convert {\n",
              "      background-color: #3B4455;\n",
              "      fill: #D2E3FC;\n",
              "    }\n",
              "\n",
              "    [theme=dark] .colab-df-convert:hover {\n",
              "      background-color: #434B5C;\n",
              "      box-shadow: 0px 1px 3px 1px rgba(0, 0, 0, 0.15);\n",
              "      filter: drop-shadow(0px 1px 2px rgba(0, 0, 0, 0.3));\n",
              "      fill: #FFFFFF;\n",
              "    }\n",
              "  </style>\n",
              "\n",
              "      <script>\n",
              "        const buttonEl =\n",
              "          document.querySelector('#df-2610352d-d5d7-4916-8320-9a8f27e3de1e button.colab-df-convert');\n",
              "        buttonEl.style.display =\n",
              "          google.colab.kernel.accessAllowed ? 'block' : 'none';\n",
              "\n",
              "        async function convertToInteractive(key) {\n",
              "          const element = document.querySelector('#df-2610352d-d5d7-4916-8320-9a8f27e3de1e');\n",
              "          const dataTable =\n",
              "            await google.colab.kernel.invokeFunction('convertToInteractive',\n",
              "                                                     [key], {});\n",
              "          if (!dataTable) return;\n",
              "\n",
              "          const docLinkHtml = 'Like what you see? Visit the ' +\n",
              "            '<a target=\"_blank\" href=https://colab.research.google.com/notebooks/data_table.ipynb>data table notebook</a>'\n",
              "            + ' to learn more about interactive tables.';\n",
              "          element.innerHTML = '';\n",
              "          dataTable['output_type'] = 'display_data';\n",
              "          await google.colab.output.renderOutput(dataTable, element);\n",
              "          const docLink = document.createElement('div');\n",
              "          docLink.innerHTML = docLinkHtml;\n",
              "          element.appendChild(docLink);\n",
              "        }\n",
              "      </script>\n",
              "    </div>\n",
              "  </div>\n",
              "  "
            ]
          },
          "metadata": {},
          "execution_count": 16
        }
      ]
    },
    {
      "cell_type": "code",
      "source": [
        "df.shape"
      ],
      "metadata": {
        "colab": {
          "base_uri": "https://localhost:8080/"
        },
        "id": "5n91bNy8NOjS",
        "outputId": "2a54b928-0f64-49cc-8ff8-4fb51c87b02b"
      },
      "execution_count": null,
      "outputs": [
        {
          "output_type": "execute_result",
          "data": {
            "text/plain": [
              "(2479, 2)"
            ]
          },
          "metadata": {},
          "execution_count": 17
        }
      ]
    },
    {
      "cell_type": "code",
      "source": [
        "# Checking for null values\n",
        "df.isnull().sum()"
      ],
      "metadata": {
        "colab": {
          "base_uri": "https://localhost:8080/"
        },
        "id": "oeowDKLzCqII",
        "outputId": "7853fa0a-c6c6-4fe3-f7e6-319eab71faee"
      },
      "execution_count": null,
      "outputs": [
        {
          "output_type": "execute_result",
          "data": {
            "text/plain": [
              "comments    0\n",
              "target      4\n",
              "dtype: int64"
            ]
          },
          "metadata": {},
          "execution_count": 18
        }
      ]
    },
    {
      "cell_type": "markdown",
      "source": [
        "### Preprocessing data"
      ],
      "metadata": {
        "id": "2kSS5MV9d2sJ"
      }
    },
    {
      "cell_type": "code",
      "source": [
        "df.dropna(inplace=True)"
      ],
      "metadata": {
        "id": "4AjF414xDI-g"
      },
      "execution_count": null,
      "outputs": []
    },
    {
      "cell_type": "code",
      "source": [
        "df['target'].value_counts()"
      ],
      "metadata": {
        "colab": {
          "base_uri": "https://localhost:8080/"
        },
        "id": "rhPv81L7QlP3",
        "outputId": "5b9f182c-4873-4646-ed19-6f7b5b1d2213"
      },
      "execution_count": null,
      "outputs": [
        {
          "output_type": "execute_result",
          "data": {
            "text/plain": [
              "positive      1050\n",
              "other          568\n",
              "question       448\n",
              "suggestion     409\n",
              "Name: target, dtype: int64"
            ]
          },
          "metadata": {},
          "execution_count": 20
        }
      ]
    },
    {
      "cell_type": "code",
      "source": [
        "# preprocessing sentence for model (replacing special characters with \" \")\n",
        "df['comments'] = df['comments'].str.replace(\"[^a-zA-Z?!#]\", \" \")"
      ],
      "metadata": {
        "colab": {
          "base_uri": "https://localhost:8080/"
        },
        "id": "Fh4IYs2HUWPj",
        "outputId": "2ac52801-07fa-47c3-8b7e-fa8b0af8f104"
      },
      "execution_count": null,
      "outputs": [
        {
          "output_type": "stream",
          "name": "stderr",
          "text": [
            "/usr/local/lib/python3.7/dist-packages/ipykernel_launcher.py:2: FutureWarning: The default value of regex will change from True to False in a future version.\n",
            "  \n"
          ]
        }
      ]
    },
    {
      "cell_type": "code",
      "source": [
        "X = df['comments']\n",
        "y = df['target']"
      ],
      "metadata": {
        "id": "EcuRUyNSXKkj"
      },
      "execution_count": null,
      "outputs": []
    },
    {
      "cell_type": "markdown",
      "source": [
        "## Splitting dataset into training and testing"
      ],
      "metadata": {
        "id": "A9nMgMted-uQ"
      }
    },
    {
      "cell_type": "code",
      "source": [
        "X_train, X_test, y_train, y_test = train_test_split(X,y,test_size=0.1, stratify=y,random_state=42)"
      ],
      "metadata": {
        "id": "4y011CkZXShP"
      },
      "execution_count": null,
      "outputs": []
    },
    {
      "cell_type": "code",
      "source": [
        "print(y_train.value_counts())\n",
        "print(y_test.value_counts())"
      ],
      "metadata": {
        "colab": {
          "base_uri": "https://localhost:8080/"
        },
        "id": "qT2gIWUrX-r7",
        "outputId": "02569c1b-279a-45f7-806f-179180d30036"
      },
      "execution_count": null,
      "outputs": [
        {
          "output_type": "stream",
          "name": "stdout",
          "text": [
            "positive      945\n",
            "other         511\n",
            "question      403\n",
            "suggestion    368\n",
            "Name: target, dtype: int64\n",
            "positive      105\n",
            "other          57\n",
            "question       45\n",
            "suggestion     41\n",
            "Name: target, dtype: int64\n"
          ]
        }
      ]
    },
    {
      "cell_type": "code",
      "source": [
        "X_train"
      ],
      "metadata": {
        "colab": {
          "base_uri": "https://localhost:8080/"
        },
        "id": "ssWAoXLsZutT",
        "outputId": "43c55052-fab7-4147-e3d2-ec04f9d7d926"
      },
      "execution_count": null,
      "outputs": [
        {
          "output_type": "execute_result",
          "data": {
            "text/plain": [
              "511     One of the best learning videos youTube has to...\n",
              "926     This video is so well explained you are a grea...\n",
              "1177    What s the difference between a void function ...\n",
              "2247       Contents                 Introduction      ...\n",
              "325     When you re using this video to get ready for ...\n",
              "                              ...                        \n",
              "788     why do you have to put the actual characterAge...\n",
              "698                 LMAO I love the subtle Lost reference\n",
              "1382    i like how you are not from  Yes Ok This Is  i...\n",
              "662     can someone explain my question? when i write ...\n",
              "900     I m paying         to get a piece of paper fro...\n",
              "Name: comments, Length: 2227, dtype: object"
            ]
          },
          "metadata": {},
          "execution_count": 25
        }
      ]
    },
    {
      "cell_type": "code",
      "source": [
        "train_sentences = X_train.to_list()\n",
        "test_sentences = X_test.to_list()"
      ],
      "metadata": {
        "id": "NK1_fp7dgjIz"
      },
      "execution_count": null,
      "outputs": []
    },
    {
      "cell_type": "code",
      "source": [
        "# One hot encode labels\n",
        "from sklearn.preprocessing import OneHotEncoder\n",
        "one_hot_encoder = OneHotEncoder(sparse=False)\n",
        "train_labels_one_hot = one_hot_encoder.fit_transform(y_train.to_numpy().reshape(-1, 1))\n",
        "test_labels_one_hot = one_hot_encoder.transform(y_test.to_numpy().reshape(-1, 1))\n",
        "\n",
        "# check what one hot encoded labels look like\n",
        "train_labels_one_hot"
      ],
      "metadata": {
        "colab": {
          "base_uri": "https://localhost:8080/"
        },
        "id": "w5EHuU3ijCKD",
        "outputId": "ac62f51f-726b-4f02-de83-72846f3205c8"
      },
      "execution_count": null,
      "outputs": [
        {
          "output_type": "execute_result",
          "data": {
            "text/plain": [
              "array([[0., 1., 0., 0.],\n",
              "       [0., 0., 1., 0.],\n",
              "       [0., 0., 1., 0.],\n",
              "       ...,\n",
              "       [1., 0., 0., 0.],\n",
              "       [0., 0., 1., 0.],\n",
              "       [0., 0., 0., 1.]])"
            ]
          },
          "metadata": {},
          "execution_count": 27
        }
      ]
    },
    {
      "cell_type": "code",
      "source": [
        "from sklearn.preprocessing import LabelEncoder \n",
        "label_encoder = LabelEncoder()\n",
        "train_labels_encoded = label_encoder.fit_transform(y_train.to_numpy())\n",
        "test_label_encoded = label_encoder.transform(y_test.to_numpy())\n",
        "\n",
        "# check what training labels look like\n",
        "train_labels_encoded"
      ],
      "metadata": {
        "colab": {
          "base_uri": "https://localhost:8080/"
        },
        "id": "ybPpFqH8jV8G",
        "outputId": "5819d737-829e-49d8-d9e5-35e66d8b27da"
      },
      "execution_count": null,
      "outputs": [
        {
          "output_type": "execute_result",
          "data": {
            "text/plain": [
              "array([1, 2, 2, ..., 0, 2, 3])"
            ]
          },
          "metadata": {},
          "execution_count": 28
        }
      ]
    },
    {
      "cell_type": "code",
      "source": [
        "num_classes = len(label_encoder.classes_)\n",
        "class_names = label_encoder.classes_\n",
        "num_classes, class_names"
      ],
      "metadata": {
        "colab": {
          "base_uri": "https://localhost:8080/"
        },
        "id": "2UF5EkzejeFL",
        "outputId": "ab4e88c5-de14-4f1e-9ea3-92ad7af5cacb"
      },
      "execution_count": null,
      "outputs": [
        {
          "output_type": "execute_result",
          "data": {
            "text/plain": [
              "(4, array(['other', 'positive', 'question', 'suggestion'], dtype=object))"
            ]
          },
          "metadata": {},
          "execution_count": 29
        }
      ]
    },
    {
      "cell_type": "markdown",
      "source": [
        "## Preparing our data (the text) for deep sequence models"
      ],
      "metadata": {
        "id": "ej5W660ooMpx"
      }
    },
    {
      "cell_type": "code",
      "source": [
        "# how long is each sentence on average ?\n",
        "sent_lens = [len(sentences.split()) for sentences in train_sentences]\n",
        "avg_sent_lens = np.mean(sent_lens)\n",
        "avg_sent_lens"
      ],
      "metadata": {
        "colab": {
          "base_uri": "https://localhost:8080/"
        },
        "id": "y6g18EOMoCPA",
        "outputId": "259fbfce-ac08-4c89-8d60-5c0a9629ccf9"
      },
      "execution_count": null,
      "outputs": [
        {
          "output_type": "execute_result",
          "data": {
            "text/plain": [
              "20.222721149528514"
            ]
          },
          "metadata": {},
          "execution_count": 30
        }
      ]
    },
    {
      "cell_type": "code",
      "source": [
        "plt.hist(sent_lens, bins=20);"
      ],
      "metadata": {
        "colab": {
          "base_uri": "https://localhost:8080/",
          "height": 265
        },
        "id": "I27aQCK9xVQo",
        "outputId": "4a2aafed-0a8a-4521-d9ac-f36139b3b458"
      },
      "execution_count": null,
      "outputs": [
        {
          "output_type": "display_data",
          "data": {
            "text/plain": [
              "<Figure size 432x288 with 1 Axes>"
            ],
            "image/png": "[encoded data removed]"
          },
          "metadata": {
            "needs_background": "light"
          }
        }
      ]
    },
    {
      "cell_type": "code",
      "source": [
        "# How long of a setnence lenght covers 95% of examples?\n",
        "output_seq_len = int(np.percentile(sent_lens, 95))\n",
        "output_seq_len"
      ],
      "metadata": {
        "colab": {
          "base_uri": "https://localhost:8080/"
        },
        "id": "pimZRBTCxaZJ",
        "outputId": "b9fe33d3-d31b-457b-a099-0aa580a7b9ac"
      },
      "execution_count": null,
      "outputs": [
        {
          "output_type": "execute_result",
          "data": {
            "text/plain": [
              "66"
            ]
          },
          "metadata": {},
          "execution_count": 32
        }
      ]
    },
    {
      "cell_type": "code",
      "source": [
        "max(sent_lens)"
      ],
      "metadata": {
        "colab": {
          "base_uri": "https://localhost:8080/"
        },
        "id": "v41ScawAxhL4",
        "outputId": "e2db6e3d-5c80-4e23-f95b-aae27f841848"
      },
      "execution_count": null,
      "outputs": [
        {
          "output_type": "execute_result",
          "data": {
            "text/plain": [
              "205"
            ]
          },
          "metadata": {},
          "execution_count": 33
        }
      ]
    },
    {
      "cell_type": "markdown",
      "source": [
        "### Create text vectorization layer\n"
      ],
      "metadata": {
        "id": "nt04KutQxkzl"
      }
    },
    {
      "cell_type": "code",
      "source": [
        "from tensorflow.keras.layers.experimental.preprocessing import TextVectorization\n",
        "\n",
        "text_vectorizer = TextVectorization(output_sequence_length = output_seq_len)"
      ],
      "metadata": {
        "id": "pVWlezJXxtLN"
      },
      "execution_count": null,
      "outputs": []
    },
    {
      "cell_type": "code",
      "source": [
        "text_vectorizer.adapt(train_sentences)"
      ],
      "metadata": {
        "id": "e3JqdywzzB15"
      },
      "execution_count": null,
      "outputs": []
    },
    {
      "cell_type": "code",
      "source": [
        "import random\n",
        "target_sentence = random.choice(train_sentences)\n",
        "print(f\"Text:\\n{target_sentence}\")\n",
        "print(f\"\\nLength of text: {len(target_sentence.split())}\")\n",
        "print(f\"\\nVectorized text: {text_vectorizer([target_sentence])}\")"
      ],
      "metadata": {
        "colab": {
          "base_uri": "https://localhost:8080/"
        },
        "id": "JUF2e6G0zITb",
        "outputId": "f4b4029b-a092-4bac-eeb3-2979af06af17"
      },
      "execution_count": null,
      "outputs": [
        {
          "output_type": "stream",
          "name": "stdout",
          "text": [
            "Text:\n",
            "It really helpful for the beginners and also your was of teaching is clear and easy understanding   complete course in  hrs   very good video  \n",
            "\n",
            "Length of text: 24\n",
            "\n",
            "Vectorized text: [[ 12  55 160  10   3 248   7  83  38  33  14 148   9 269   7 122 445 423\n",
            "   34  11 415  40  44  17   0   0   0   0   0   0   0   0   0   0   0   0\n",
            "    0   0   0   0   0   0   0   0   0   0   0   0   0   0   0   0   0   0\n",
            "    0   0   0   0   0   0   0   0   0   0   0   0]]\n"
          ]
        }
      ]
    },
    {
      "cell_type": "code",
      "source": [
        "yt_comments_text_vocab = text_vectorizer.get_vocabulary()\n",
        "print(f\"Number of words in vocab: {len(yt_comments_text_vocab)}\")\n",
        "print(f\"Most common words in the vocab: {yt_comments_text_vocab[:5]}\")\n",
        "print(f\"Least common words in the vocab: {yt_comments_text_vocab[-5:]}\")"
      ],
      "metadata": {
        "colab": {
          "base_uri": "https://localhost:8080/"
        },
        "id": "D8oDjSRMzMEG",
        "outputId": "07dfe3c2-468f-43df-b119-40fca270dacc"
      },
      "execution_count": null,
      "outputs": [
        {
          "output_type": "stream",
          "name": "stdout",
          "text": [
            "Number of words in vocab: 3686\n",
            "Most common words in the vocab: ['', '[UNK]', 'i', 'the', 'a']\n",
            "Least common words in the vocab: ['absolutly', 'absence', 'abrupt', 'abilities', 'aayaaa']\n"
          ]
        }
      ]
    },
    {
      "cell_type": "code",
      "source": [
        "text_vectorizer.get_config()"
      ],
      "metadata": {
        "colab": {
          "base_uri": "https://localhost:8080/"
        },
        "id": "PSOvxtRUzrgO",
        "outputId": "085deadd-3d32-4a1d-8532-87b9be54679e"
      },
      "execution_count": null,
      "outputs": [
        {
          "output_type": "execute_result",
          "data": {
            "text/plain": [
              "{'batch_input_shape': (None,),\n",
              " 'dtype': 'string',\n",
              " 'idf_weights': None,\n",
              " 'max_tokens': None,\n",
              " 'name': 'text_vectorization',\n",
              " 'ngrams': None,\n",
              " 'output_mode': 'int',\n",
              " 'output_sequence_length': 66,\n",
              " 'pad_to_max_tokens': False,\n",
              " 'ragged': False,\n",
              " 'sparse': False,\n",
              " 'split': 'whitespace',\n",
              " 'standardize': 'lower_and_strip_punctuation',\n",
              " 'trainable': True,\n",
              " 'vocabulary': None}"
            ]
          },
          "metadata": {},
          "execution_count": 38
        }
      ]
    },
    {
      "cell_type": "markdown",
      "source": [
        "## Create custom text embedding"
      ],
      "metadata": {
        "id": "SuN27u8Iz0Ny"
      }
    },
    {
      "cell_type": "code",
      "source": [
        "# Create token embedding layer\n",
        "token_embed = layers.Embedding(input_dim = len(yt_comments_text_vocab),\n",
        "                               output_dim = 128,\n",
        "                               mask_zero = True,\n",
        "                               name = \"token_embedding\")"
      ],
      "metadata": {
        "id": "QZzqxEs-z-mH"
      },
      "execution_count": null,
      "outputs": []
    },
    {
      "cell_type": "code",
      "source": [
        "# Show example embedding\n",
        "print(f\"Sentence before vectorization:\\n {target_sentence}\\n\")\n",
        "vectorized_sentence = text_vectorizer([target_sentence])\n",
        "print(f\"Sentence after vectorization (before embedding):\\n {vectorized_sentence}\\n\")\n",
        "embedded_sentence = token_embed(vectorized_sentence)\n",
        "print(f\"Sentence after embedding:\\n {embedded_sentence}\\n\")\n",
        "print(f\"Embedded sentence shape: {embedded_sentence.shape}\")"
      ],
      "metadata": {
        "colab": {
          "base_uri": "https://localhost:8080/"
        },
        "id": "wBDSfYf70CGZ",
        "outputId": "7519a046-f9b5-4e68-8d5c-7d2640a987ef"
      },
      "execution_count": null,
      "outputs": [
        {
          "output_type": "stream",
          "name": "stdout",
          "text": [
            "Sentence before vectorization:\n",
            " It really helpful for the beginners and also your was of teaching is clear and easy understanding   complete course in  hrs   very good video  \n",
            "\n",
            "Sentence after vectorization (before embedding):\n",
            " [[ 12  55 160  10   3 248   7  83  38  33  14 148   9 269   7 122 445 423\n",
            "   34  11 415  40  44  17   0   0   0   0   0   0   0   0   0   0   0   0\n",
            "    0   0   0   0   0   0   0   0   0   0   0   0   0   0   0   0   0   0\n",
            "    0   0   0   0   0   0   0   0   0   0   0   0]]\n",
            "\n",
            "Sentence after embedding:\n",
            " [[[ 0.02220521  0.0134549  -0.03109433 ...  0.02309856 -0.01654689\n",
            "   -0.01330895]\n",
            "  [-0.02845904 -0.04346836 -0.02676729 ...  0.0451183   0.02641101\n",
            "    0.01634811]\n",
            "  [ 0.04154173 -0.04262378 -0.02930465 ...  0.02176586 -0.01926681\n",
            "    0.03549201]\n",
            "  ...\n",
            "  [ 0.01840165 -0.02561086  0.00607913 ... -0.0257646   0.00173355\n",
            "   -0.04851706]\n",
            "  [ 0.01840165 -0.02561086  0.00607913 ... -0.0257646   0.00173355\n",
            "   -0.04851706]\n",
            "  [ 0.01840165 -0.02561086  0.00607913 ... -0.0257646   0.00173355\n",
            "   -0.04851706]]]\n",
            "\n",
            "Embedded sentence shape: (1, 66, 128)\n"
          ]
        }
      ]
    },
    {
      "cell_type": "markdown",
      "source": [
        "## Creating Datasets"
      ],
      "metadata": {
        "id": "MyOthXgB0IcT"
      }
    },
    {
      "cell_type": "code",
      "source": [
        "# Turn our data into TensorFlow Datasets\n",
        "train_dataset = tf.data.Dataset.from_tensor_slices((train_sentences, train_labels_one_hot))\n",
        "test_dataset = tf.data.Dataset.from_tensor_slices((test_sentences, test_labels_one_hot))\n",
        "\n",
        "train_dataset"
      ],
      "metadata": {
        "colab": {
          "base_uri": "https://localhost:8080/"
        },
        "id": "xBXH56_C0WG4",
        "outputId": "0a6df0c1-e874-47f7-97d6-6a5c6889462e"
      },
      "execution_count": null,
      "outputs": [
        {
          "output_type": "execute_result",
          "data": {
            "text/plain": [
              "<TensorSliceDataset element_spec=(TensorSpec(shape=(), dtype=tf.string, name=None), TensorSpec(shape=(4,), dtype=tf.float64, name=None))>"
            ]
          },
          "metadata": {},
          "execution_count": 41
        }
      ]
    },
    {
      "cell_type": "code",
      "source": [
        "# Take the TensorSliceDataset's and turn them into prefetched batches\n",
        "train_dataset = train_dataset.batch(32).prefetch(tf.data.AUTOTUNE)\n",
        "test_dataset = test_dataset.batch(32).prefetch(tf.data.AUTOTUNE)\n",
        "\n",
        "train_dataset"
      ],
      "metadata": {
        "colab": {
          "base_uri": "https://localhost:8080/"
        },
        "id": "gBVHlcza0Z3K",
        "outputId": "6f8e0a26-3871-4853-d54c-4f0d54f3aae3"
      },
      "execution_count": null,
      "outputs": [
        {
          "output_type": "execute_result",
          "data": {
            "text/plain": [
              "<PrefetchDataset element_spec=(TensorSpec(shape=(None,), dtype=tf.string, name=None), TensorSpec(shape=(None, 4), dtype=tf.float64, name=None))>"
            ]
          },
          "metadata": {},
          "execution_count": 42
        }
      ]
    },
    {
      "cell_type": "markdown",
      "source": [
        "## Model Building : Feature extraction with pretrained token embedding"
      ],
      "metadata": {
        "id": "LoIArgWz3h4t"
      }
    },
    {
      "cell_type": "code",
      "source": [
        "import tensorflow_hub as hub\n",
        "tf_hub_embedding_layer = hub.KerasLayer(\"https://tfhub.dev/google/universal-sentence-encoder/4\",\n",
        "                                        trainable=False,\n",
        "                                        name=\"universal_sentence_encoder\")"
      ],
      "metadata": {
        "id": "ujEjPTH54GeZ"
      },
      "execution_count": null,
      "outputs": []
    },
    {
      "cell_type": "code",
      "source": [
        "random_train_sentence = random.choice(train_sentences)\n",
        "print(f\"Random sentence:\\n {random_train_sentence}\")\n",
        "use_embedded_sentence = tf_hub_embedding_layer([random_train_sentence])\n",
        "print(f\"Setence after embedding:\\n{use_embedded_sentence[0][:30]}\\n\")\n",
        "print(f\"Length of sentence embedding: {len(use_embedded_sentence[0])}\")"
      ],
      "metadata": {
        "colab": {
          "base_uri": "https://localhost:8080/"
        },
        "id": "BVsXuy664pRc",
        "outputId": "a78c245e-004a-4786-b5f1-8bc765a34aaa"
      },
      "execution_count": null,
      "outputs": [
        {
          "output_type": "stream",
          "name": "stdout",
          "text": [
            "Random sentence:\n",
            " it is          and code blocks is no longer working for mac    that s unfortunate  I prefer VIM but I thought I d try CB \n",
            "Setence after embedding:\n",
            "[ 0.02048647 -0.00761794  0.02260171 -0.02575849 -0.03534763 -0.00565519\n",
            " -0.05102475 -0.05365266  0.07072992  0.06406253 -0.06569648 -0.04128966\n",
            " -0.01253575  0.04951774 -0.07219057  0.0910299  -0.02749743  0.02205029\n",
            "  0.04459465  0.01875841  0.07566796 -0.00470361 -0.0082244   0.02395441\n",
            " -0.03056512 -0.03030666 -0.00951284  0.0226314   0.01484695 -0.0298853 ]\n",
            "\n",
            "Length of sentence embedding: 512\n"
          ]
        }
      ]
    },
    {
      "cell_type": "code",
      "source": [
        "inputs = layers.Input(shape=[], dtype=tf.string)\n",
        "pretrained_embedding = tf_hub_embedding_layer(inputs)\n",
        "\n",
        "x = layers.Dense(64, activation='relu')(pretrained_embedding)\n",
        "x = layers.Dropout(0.2)(x)\n",
        "x = layers.Dense(64, activation='relu')(x)\n",
        "x = layers.Dropout(0.2)(x)\n",
        "x = layers.Dense(32, activation='relu')(x)\n",
        "x = layers.Dropout(0.2)(x)\n",
        "x = layers.Dense(32, activation='relu')(x)\n",
        "x = layers.Dropout(0.2)(x)\n",
        "# x = layers.Dense(32, activation='relu')(x)\n",
        "# x = layers.Dense(16, activation='relu')(x)\n",
        "# x = layers.Dense(8, activation='relu')(x)\n",
        "outputs = layers.Dense(num_classes, activation='softmax')(x)\n",
        "model = tf.keras.Model(inputs=inputs,\n",
        "                         outputs=outputs,\n",
        "                         name=\"model_2_USE_feature_extractor\")\n",
        "\n",
        "early_stopping = tf.keras.callbacks.EarlyStopping(monitor = 'val_loss', mode = 'min',\n",
        "                                                  verbose = 1, patience = 2)\n",
        "\n",
        "reduce_lr = tf.keras.callbacks.ReduceLROnPlateau(monitor='val_loss', factor=0.2,\n",
        "                                                 patience=5, min_lr=0.00001)\n",
        "\n",
        "\n",
        "model.compile(loss = 'categorical_crossentropy',\n",
        "                optimizer = tf.keras.optimizers.Adam(lr=0.0001),\n",
        "                metrics = [\"accuracy\"])"
      ],
      "metadata": {
        "colab": {
          "base_uri": "https://localhost:8080/"
        },
        "id": "MHA4JOUU5KbE",
        "outputId": "2ff07b8b-8e3a-44bb-8382-f6d9862c5138"
      },
      "execution_count": null,
      "outputs": [
        {
          "output_type": "stream",
          "name": "stderr",
          "text": [
            "/usr/local/lib/python3.7/dist-packages/keras/optimizer_v2/adam.py:105: UserWarning: The `lr` argument is deprecated, use `learning_rate` instead.\n",
            "  super(Adam, self).__init__(name, **kwargs)\n"
          ]
        }
      ]
    },
    {
      "cell_type": "code",
      "source": [
        "model.summary()"
      ],
      "metadata": {
        "colab": {
          "base_uri": "https://localhost:8080/"
        },
        "id": "8umR3he55V1_",
        "outputId": "eeda5624-59a7-4558-b53d-b22a25382ae2"
      },
      "execution_count": null,
      "outputs": [
        {
          "output_type": "stream",
          "name": "stdout",
          "text": [
            "Model: \"model_2_USE_feature_extractor\"\n",
            "_________________________________________________________________\n",
            " Layer (type)                Output Shape              Param #   \n",
            "=================================================================\n",
            " input_1 (InputLayer)        [(None,)]                 0         \n",
            "                                                                 \n",
            " universal_sentence_encoder   (None, 512)              256797824 \n",
            " (KerasLayer)                                                    \n",
            "                                                                 \n",
            " dense (Dense)               (None, 64)                32832     \n",
            "                                                                 \n",
            " dropout (Dropout)           (None, 64)                0         \n",
            "                                                                 \n",
            " dense_1 (Dense)             (None, 64)                4160      \n",
            "                                                                 \n",
            " dropout_1 (Dropout)         (None, 64)                0         \n",
            "                                                                 \n",
            " dense_2 (Dense)             (None, 32)                2080      \n",
            "                                                                 \n",
            " dropout_2 (Dropout)         (None, 32)                0         \n",
            "                                                                 \n",
            " dense_3 (Dense)             (None, 32)                1056      \n",
            "                                                                 \n",
            " dropout_3 (Dropout)         (None, 32)                0         \n",
            "                                                                 \n",
            " dense_4 (Dense)             (None, 4)                 132       \n",
            "                                                                 \n",
            "=================================================================\n",
            "Total params: 256,838,084\n",
            "Trainable params: 40,260\n",
            "Non-trainable params: 256,797,824\n",
            "_________________________________________________________________\n"
          ]
        }
      ]
    },
    {
      "cell_type": "code",
      "source": [
        "history = model.fit(train_dataset,\n",
        "                              epochs=50,\n",
        "                              validation_data=test_dataset,\n",
        "                              callbacks = [early_stopping,reduce_lr])"
      ],
      "metadata": {
        "colab": {
          "base_uri": "https://localhost:8080/"
        },
        "id": "nBT2j2Jo5Y8f",
        "outputId": "edfff7a5-2b81-4de9-c57e-8c312f00f4a4"
      },
      "execution_count": null,
      "outputs": [
        {
          "output_type": "stream",
          "name": "stdout",
          "text": [
            "Epoch 1/50\n",
            "70/70 [==============================] - 5s 23ms/step - loss: 1.3821 - accuracy: 0.2968 - val_loss: 1.3679 - val_accuracy: 0.4798 - lr: 1.0000e-04\n",
            "Epoch 2/50\n",
            "70/70 [==============================] - 1s 14ms/step - loss: 1.3609 - accuracy: 0.4540 - val_loss: 1.3391 - val_accuracy: 0.4919 - lr: 1.0000e-04\n",
            "Epoch 3/50\n",
            "70/70 [==============================] - 1s 15ms/step - loss: 1.3217 - accuracy: 0.4742 - val_loss: 1.2814 - val_accuracy: 0.4879 - lr: 1.0000e-04\n",
            "Epoch 4/50\n",
            "70/70 [==============================] - 1s 14ms/step - loss: 1.2452 - accuracy: 0.4885 - val_loss: 1.1829 - val_accuracy: 0.4960 - lr: 1.0000e-04\n",
            "Epoch 5/50\n",
            "70/70 [==============================] - 1s 15ms/step - loss: 1.1440 - accuracy: 0.5128 - val_loss: 1.0837 - val_accuracy: 0.5161 - lr: 1.0000e-04\n",
            "Epoch 6/50\n",
            "70/70 [==============================] - 1s 15ms/step - loss: 1.0693 - accuracy: 0.5370 - val_loss: 1.0075 - val_accuracy: 0.5726 - lr: 1.0000e-04\n",
            "Epoch 7/50\n",
            "70/70 [==============================] - 1s 15ms/step - loss: 0.9980 - accuracy: 0.5819 - val_loss: 0.9517 - val_accuracy: 0.6573 - lr: 1.0000e-04\n",
            "Epoch 8/50\n",
            "70/70 [==============================] - 1s 14ms/step - loss: 0.9387 - accuracy: 0.6394 - val_loss: 0.9085 - val_accuracy: 0.6653 - lr: 1.0000e-04\n",
            "Epoch 9/50\n",
            "70/70 [==============================] - 1s 14ms/step - loss: 0.9000 - accuracy: 0.6533 - val_loss: 0.8754 - val_accuracy: 0.6694 - lr: 1.0000e-04\n",
            "Epoch 10/50\n",
            "70/70 [==============================] - 1s 15ms/step - loss: 0.8675 - accuracy: 0.6888 - val_loss: 0.8447 - val_accuracy: 0.6815 - lr: 1.0000e-04\n",
            "Epoch 11/50\n",
            "70/70 [==============================] - 1s 15ms/step - loss: 0.8365 - accuracy: 0.6848 - val_loss: 0.8195 - val_accuracy: 0.6855 - lr: 1.0000e-04\n",
            "Epoch 12/50\n",
            "70/70 [==============================] - 1s 16ms/step - loss: 0.8112 - accuracy: 0.7009 - val_loss: 0.7996 - val_accuracy: 0.6855 - lr: 1.0000e-04\n",
            "Epoch 13/50\n",
            "70/70 [==============================] - 1s 15ms/step - loss: 0.7756 - accuracy: 0.7036 - val_loss: 0.7832 - val_accuracy: 0.6815 - lr: 1.0000e-04\n",
            "Epoch 14/50\n",
            "70/70 [==============================] - 1s 15ms/step - loss: 0.7667 - accuracy: 0.7104 - val_loss: 0.7704 - val_accuracy: 0.7016 - lr: 1.0000e-04\n",
            "Epoch 15/50\n",
            "70/70 [==============================] - 1s 15ms/step - loss: 0.7510 - accuracy: 0.7153 - val_loss: 0.7584 - val_accuracy: 0.6976 - lr: 1.0000e-04\n",
            "Epoch 16/50\n",
            "70/70 [==============================] - 1s 16ms/step - loss: 0.7352 - accuracy: 0.7207 - val_loss: 0.7489 - val_accuracy: 0.7056 - lr: 1.0000e-04\n",
            "Epoch 17/50\n",
            "70/70 [==============================] - 1s 15ms/step - loss: 0.7150 - accuracy: 0.7256 - val_loss: 0.7405 - val_accuracy: 0.7056 - lr: 1.0000e-04\n",
            "Epoch 18/50\n",
            "70/70 [==============================] - 1s 15ms/step - loss: 0.7080 - accuracy: 0.7378 - val_loss: 0.7320 - val_accuracy: 0.7177 - lr: 1.0000e-04\n",
            "Epoch 19/50\n",
            "70/70 [==============================] - 1s 15ms/step - loss: 0.6879 - accuracy: 0.7387 - val_loss: 0.7251 - val_accuracy: 0.7137 - lr: 1.0000e-04\n",
            "Epoch 20/50\n",
            "70/70 [==============================] - 1s 15ms/step - loss: 0.6672 - accuracy: 0.7472 - val_loss: 0.7208 - val_accuracy: 0.7218 - lr: 1.0000e-04\n",
            "Epoch 21/50\n",
            "70/70 [==============================] - 1s 15ms/step - loss: 0.6636 - accuracy: 0.7512 - val_loss: 0.7171 - val_accuracy: 0.7218 - lr: 1.0000e-04\n",
            "Epoch 22/50\n",
            "70/70 [==============================] - 1s 15ms/step - loss: 0.6722 - accuracy: 0.7485 - val_loss: 0.7118 - val_accuracy: 0.7298 - lr: 1.0000e-04\n",
            "Epoch 23/50\n",
            "70/70 [==============================] - 1s 15ms/step - loss: 0.6526 - accuracy: 0.7539 - val_loss: 0.7076 - val_accuracy: 0.7258 - lr: 1.0000e-04\n",
            "Epoch 24/50\n",
            "70/70 [==============================] - 1s 16ms/step - loss: 0.6396 - accuracy: 0.7544 - val_loss: 0.7029 - val_accuracy: 0.7258 - lr: 1.0000e-04\n",
            "Epoch 25/50\n",
            "70/70 [==============================] - 1s 16ms/step - loss: 0.6322 - accuracy: 0.7566 - val_loss: 0.6991 - val_accuracy: 0.7339 - lr: 1.0000e-04\n",
            "Epoch 26/50\n",
            "70/70 [==============================] - 1s 15ms/step - loss: 0.6214 - accuracy: 0.7728 - val_loss: 0.6965 - val_accuracy: 0.7379 - lr: 1.0000e-04\n",
            "Epoch 27/50\n",
            "70/70 [==============================] - 1s 15ms/step - loss: 0.6207 - accuracy: 0.7683 - val_loss: 0.6924 - val_accuracy: 0.7379 - lr: 1.0000e-04\n",
            "Epoch 28/50\n",
            "70/70 [==============================] - 1s 14ms/step - loss: 0.6015 - accuracy: 0.7827 - val_loss: 0.6911 - val_accuracy: 0.7379 - lr: 1.0000e-04\n",
            "Epoch 29/50\n",
            "70/70 [==============================] - 1s 14ms/step - loss: 0.6122 - accuracy: 0.7714 - val_loss: 0.6863 - val_accuracy: 0.7460 - lr: 1.0000e-04\n",
            "Epoch 30/50\n",
            "70/70 [==============================] - 1s 14ms/step - loss: 0.5861 - accuracy: 0.7867 - val_loss: 0.6858 - val_accuracy: 0.7460 - lr: 1.0000e-04\n",
            "Epoch 31/50\n",
            "70/70 [==============================] - 1s 15ms/step - loss: 0.5935 - accuracy: 0.7885 - val_loss: 0.6857 - val_accuracy: 0.7500 - lr: 1.0000e-04\n",
            "Epoch 32/50\n",
            "70/70 [==============================] - 1s 15ms/step - loss: 0.5739 - accuracy: 0.7876 - val_loss: 0.6830 - val_accuracy: 0.7540 - lr: 1.0000e-04\n",
            "Epoch 33/50\n",
            "70/70 [==============================] - 1s 15ms/step - loss: 0.5644 - accuracy: 0.7970 - val_loss: 0.6828 - val_accuracy: 0.7500 - lr: 1.0000e-04\n",
            "Epoch 34/50\n",
            "70/70 [==============================] - 1s 15ms/step - loss: 0.5695 - accuracy: 0.7925 - val_loss: 0.6817 - val_accuracy: 0.7500 - lr: 1.0000e-04\n",
            "Epoch 35/50\n",
            "70/70 [==============================] - 1s 15ms/step - loss: 0.5657 - accuracy: 0.7975 - val_loss: 0.6810 - val_accuracy: 0.7500 - lr: 1.0000e-04\n",
            "Epoch 36/50\n",
            "70/70 [==============================] - 1s 15ms/step - loss: 0.5573 - accuracy: 0.7975 - val_loss: 0.6807 - val_accuracy: 0.7500 - lr: 1.0000e-04\n",
            "Epoch 37/50\n",
            "70/70 [==============================] - 1s 15ms/step - loss: 0.5542 - accuracy: 0.8006 - val_loss: 0.6801 - val_accuracy: 0.7581 - lr: 1.0000e-04\n",
            "Epoch 38/50\n",
            "70/70 [==============================] - 1s 15ms/step - loss: 0.5418 - accuracy: 0.8015 - val_loss: 0.6815 - val_accuracy: 0.7540 - lr: 1.0000e-04\n",
            "Epoch 39/50\n",
            "70/70 [==============================] - 1s 15ms/step - loss: 0.5243 - accuracy: 0.8119 - val_loss: 0.6844 - val_accuracy: 0.7581 - lr: 1.0000e-04\n",
            "Epoch 39: early stopping\n"
          ]
        }
      ]
    },
    {
      "cell_type": "code",
      "source": [
        "preds = model.predict(test_sentences)\n",
        "\n",
        "preds = tf.argmax(preds, axis=1)\n",
        "preds"
      ],
      "metadata": {
        "colab": {
          "base_uri": "https://localhost:8080/"
        },
        "id": "29viWoA35kcU",
        "outputId": "eca40475-c94c-465b-b6ef-f8032bbd373f"
      },
      "execution_count": null,
      "outputs": [
        {
          "output_type": "execute_result",
          "data": {
            "text/plain": [
              "<tf.Tensor: shape=(248,), dtype=int64, numpy=\n",
              "array([2, 1, 0, 1, 3, 0, 1, 1, 1, 0, 1, 1, 0, 1, 2, 1, 1, 2, 1, 2, 1, 1,\n",
              "       0, 0, 1, 2, 0, 3, 2, 3, 0, 3, 0, 0, 3, 3, 2, 2, 1, 1, 1, 1, 1, 2,\n",
              "       1, 1, 2, 3, 0, 1, 2, 1, 3, 0, 1, 2, 2, 0, 0, 2, 3, 1, 0, 3, 2, 0,\n",
              "       1, 1, 0, 1, 1, 2, 0, 2, 3, 0, 2, 0, 3, 1, 1, 2, 1, 3, 0, 3, 1, 1,\n",
              "       2, 2, 1, 1, 1, 3, 1, 0, 0, 2, 0, 1, 3, 1, 1, 1, 1, 1, 1, 0, 2, 1,\n",
              "       2, 0, 2, 0, 1, 1, 1, 1, 1, 0, 0, 3, 2, 1, 0, 0, 1, 0, 1, 1, 1, 1,\n",
              "       3, 1, 0, 1, 1, 3, 1, 1, 1, 0, 2, 0, 0, 1, 1, 2, 1, 1, 2, 2, 1, 3,\n",
              "       0, 0, 1, 1, 2, 3, 0, 3, 3, 1, 2, 1, 3, 1, 1, 1, 0, 1, 1, 2, 1, 2,\n",
              "       3, 1, 1, 3, 1, 2, 0, 1, 0, 0, 1, 0, 1, 1, 0, 1, 1, 1, 2, 2, 1, 2,\n",
              "       2, 1, 1, 1, 3, 1, 3, 0, 1, 0, 3, 1, 2, 2, 1, 1, 3, 0, 1, 1, 2, 0,\n",
              "       1, 2, 2, 1, 3, 1, 0, 2, 1, 1, 0, 0, 2, 0, 1, 2, 3, 1, 0, 0, 1, 3,\n",
              "       1, 1, 2, 1, 1, 0])>"
            ]
          },
          "metadata": {},
          "execution_count": 48
        }
      ]
    },
    {
      "cell_type": "code",
      "source": [
        "from sklearn.metrics import accuracy_score\n",
        "accuracy_score(test_label_encoded,preds)"
      ],
      "metadata": {
        "colab": {
          "base_uri": "https://localhost:8080/"
        },
        "id": "llJgraS9qaXL",
        "outputId": "787fe608-6612-439a-bde7-2a0bb8fcf0ba"
      },
      "execution_count": null,
      "outputs": [
        {
          "output_type": "execute_result",
          "data": {
            "text/plain": [
              "0.7580645161290323"
            ]
          },
          "metadata": {},
          "execution_count": 49
        }
      ]
    },
    {
      "cell_type": "code",
      "source": [
        "matrix = confusion_matrix(y_true=test_label_encoded, y_pred=preds)\n",
        "\n",
        "p = ConfusionMatrixDisplay(matrix)\n",
        "p.plot();"
      ],
      "metadata": {
        "colab": {
          "base_uri": "https://localhost:8080/",
          "height": 279
        },
        "id": "_TYUR4TV57z3",
        "outputId": "5df6cc1f-f2b4-425d-91ae-035bebaa2f5b"
      },
      "execution_count": null,
      "outputs": [
        {
          "output_type": "display_data",
          "data": {
            "text/plain": [
              "<Figure size 432x288 with 2 Axes>"
            ],
            "image/png": "[encoded data removed]"
          },
          "metadata": {
            "needs_background": "light"
          }
        }
      ]
    },
    {
      "cell_type": "markdown",
      "source": [
        "## Saving the model"
      ],
      "metadata": {
        "id": "ZHU3J3aaij5q"
      }
    },
    {
      "cell_type": "code",
      "source": [
        "model.save('/content/drive/MyDrive/model/model')\n",
        "\n",
        "model_json = model.to_json()\n",
        "with open(\"model.json\", \"w\") as json_file:\n",
        "    json_file.write(model_json)\n",
        "# serialize weights to HDF5\n",
        "model.save_weights(\"/content/drive/MyDrive/model/model.h5\")\n",
        "print(\"Saved model to disk\")"
      ],
      "metadata": {
        "colab": {
          "base_uri": "https://localhost:8080/"
        },
        "id": "_gBST3cRF-r2",
        "outputId": "dec1a2f1-4ed5-43e4-d2fa-c9ed53ddeefb"
      },
      "execution_count": null,
      "outputs": [
        {
          "output_type": "stream",
          "name": "stdout",
          "text": [
            "INFO:tensorflow:Assets written to: /content/drive/MyDrive/model/model/assets\n"
          ]
        },
        {
          "output_type": "stream",
          "name": "stderr",
          "text": [
            "INFO:tensorflow:Assets written to: /content/drive/MyDrive/model/model/assets\n"
          ]
        },
        {
          "output_type": "stream",
          "name": "stdout",
          "text": [
            "Saved model to disk\n"
          ]
        }
      ]
    },
    {
      "cell_type": "code",
      "source": [
        ""
      ],
      "metadata": {
        "id": "NFUyCq4BVYwU"
      },
      "execution_count": null,
      "outputs": []
    }
  ]
}