{
  "nbformat": 4,
  "nbformat_minor": 0,
  "metadata": {
    "colab": {
      "name": "comment_analysis.ipynb",
      "provenance": [],
      "collapsed_sections": []
    },
    "kernelspec": {
      "name": "python3",
      "display_name": "Python 3"
    },
    "language_info": {
      "name": "python"
    }
  },
  "cells": [
    {
      "cell_type": "code",
      "metadata": {
        "id": "2oOu-Q7-zp3_"
      },
      "source": [
        "import numpy as np\n",
        "import pandas as pd\n",
        "import matplotlib.pyplot as plt"
      ],
      "execution_count": null,
      "outputs": []
    },
    {
      "cell_type": "code",
      "source": [
        "df = pd.read_csv(\"test_comments_2 - Sheet1.csv\")"
      ],
      "metadata": {
        "id": "FCjopg_E5E7K"
      },
      "execution_count": null,
      "outputs": []
    },
    {
      "cell_type": "code",
      "source": [
        "df.head()"
      ],
      "metadata": {
        "colab": {
          "base_uri": "https://localhost:8080/",
          "height": 206
        },
        "id": "Il4XCu-ECjNV",
        "outputId": "014ad1fe-25a0-4738-c9c1-1f1d6e938b7d"
      },
      "execution_count": null,
      "outputs": [
        {
          "output_type": "execute_result",
          "data": {
            "text/plain": [
              "                                            comments target\n",
              "0  I've learnt HTML, CSS, Javascript and Python a...      s\n",
              "1  Watched this video one year ago to start my co...      s\n",
              "2  His teaching is the most effective I've found ...      s\n",
              "3  I finally finished the whole 4 hours, and now ...      p\n",
              "4  It took me 3 days to finish this. It's very ea...      p"
            ],
            "text/html": [
              "\n",
              "  <div id=\"df-db6eac87-a811-4aff-83e9-9155a2ed212d\">\n",
              "    <div class=\"colab-df-container\">\n",
              "      <div>\n",
              "<style scoped>\n",
              "    .dataframe tbody tr th:only-of-type {\n",
              "        vertical-align: middle;\n",
              "    }\n",
              "\n",
              "    .dataframe tbody tr th {\n",
              "        vertical-align: top;\n",
              "    }\n",
              "\n",
              "    .dataframe thead th {\n",
              "        text-align: right;\n",
              "    }\n",
              "</style>\n",
              "<table border=\"1\" class=\"dataframe\">\n",
              "  <thead>\n",
              "    <tr style=\"text-align: right;\">\n",
              "      <th></th>\n",
              "      <th>comments</th>\n",
              "      <th>target</th>\n",
              "    </tr>\n",
              "  </thead>\n",
              "  <tbody>\n",
              "    <tr>\n",
              "      <th>0</th>\n",
              "      <td>I've learnt HTML, CSS, Javascript and Python a...</td>\n",
              "      <td>s</td>\n",
              "    </tr>\n",
              "    <tr>\n",
              "      <th>1</th>\n",
              "      <td>Watched this video one year ago to start my co...</td>\n",
              "      <td>s</td>\n",
              "    </tr>\n",
              "    <tr>\n",
              "      <th>2</th>\n",
              "      <td>His teaching is the most effective I've found ...</td>\n",
              "      <td>s</td>\n",
              "    </tr>\n",
              "    <tr>\n",
              "      <th>3</th>\n",
              "      <td>I finally finished the whole 4 hours, and now ...</td>\n",
              "      <td>p</td>\n",
              "    </tr>\n",
              "    <tr>\n",
              "      <th>4</th>\n",
              "      <td>It took me 3 days to finish this. It's very ea...</td>\n",
              "      <td>p</td>\n",
              "    </tr>\n",
              "  </tbody>\n",
              "</table>\n",
              "</div>\n",
              "      <button class=\"colab-df-convert\" onclick=\"convertToInteractive('df-db6eac87-a811-4aff-83e9-9155a2ed212d')\"\n",
              "              title=\"Convert this dataframe to an interactive table.\"\n",
              "              style=\"display:none;\">\n",
              "        \n",
              "  <svg xmlns=\"http://www.w3.org/2000/svg\" height=\"24px\"viewBox=\"0 0 24 24\"\n",
              "       width=\"24px\">\n",
              "    <path d=\"M0 0h24v24H0V0z\" fill=\"none\"/>\n",
              "    <path d=\"M18.56 5.44l.94 2.06.94-2.06 2.06-.94-2.06-.94-.94-2.06-.94 2.06-2.06.94zm-11 1L8.5 8.5l.94-2.06 2.06-.94-2.06-.94L8.5 2.5l-.94 2.06-2.06.94zm10 10l.94 2.06.94-2.06 2.06-.94-2.06-.94-.94-2.06-.94 2.06-2.06.94z\"/><path d=\"M17.41 7.96l-1.37-1.37c-.4-.4-.92-.59-1.43-.59-.52 0-1.04.2-1.43.59L10.3 9.45l-7.72 7.72c-.78.78-.78 2.05 0 2.83L4 21.41c.39.39.9.59 1.41.59.51 0 1.02-.2 1.41-.59l7.78-7.78 2.81-2.81c.8-.78.8-2.07 0-2.86zM5.41 20L4 18.59l7.72-7.72 1.47 1.35L5.41 20z\"/>\n",
              "  </svg>\n",
              "      </button>\n",
              "      \n",
              "  <style>\n",
              "    .colab-df-container {\n",
              "      display:flex;\n",
              "      flex-wrap:wrap;\n",
              "      gap: 12px;\n",
              "    }\n",
              "\n",
              "    .colab-df-convert {\n",
              "      background-color: #E8F0FE;\n",
              "      border: none;\n",
              "      border-radius: 50%;\n",
              "      cursor: pointer;\n",
              "      display: none;\n",
              "      fill: #1967D2;\n",
              "      height: 32px;\n",
              "      padding: 0 0 0 0;\n",
              "      width: 32px;\n",
              "    }\n",
              "\n",
              "    .colab-df-convert:hover {\n",
              "      background-color: #E2EBFA;\n",
              "      box-shadow: 0px 1px 2px rgba(60, 64, 67, 0.3), 0px 1px 3px 1px rgba(60, 64, 67, 0.15);\n",
              "      fill: #174EA6;\n",
              "    }\n",
              "\n",
              "    [theme=dark] .colab-df-convert {\n",
              "      background-color: #3B4455;\n",
              "      fill: #D2E3FC;\n",
              "    }\n",
              "\n",
              "    [theme=dark] .colab-df-convert:hover {\n",
              "      background-color: #434B5C;\n",
              "      box-shadow: 0px 1px 3px 1px rgba(0, 0, 0, 0.15);\n",
              "      filter: drop-shadow(0px 1px 2px rgba(0, 0, 0, 0.3));\n",
              "      fill: #FFFFFF;\n",
              "    }\n",
              "  </style>\n",
              "\n",
              "      <script>\n",
              "        const buttonEl =\n",
              "          document.querySelector('#df-db6eac87-a811-4aff-83e9-9155a2ed212d button.colab-df-convert');\n",
              "        buttonEl.style.display =\n",
              "          google.colab.kernel.accessAllowed ? 'block' : 'none';\n",
              "\n",
              "        async function convertToInteractive(key) {\n",
              "          const element = document.querySelector('#df-db6eac87-a811-4aff-83e9-9155a2ed212d');\n",
              "          const dataTable =\n",
              "            await google.colab.kernel.invokeFunction('convertToInteractive',\n",
              "                                                     [key], {});\n",
              "          if (!dataTable) return;\n",
              "\n",
              "          const docLinkHtml = 'Like what you see? Visit the ' +\n",
              "            '<a target=\"_blank\" href=https://colab.research.google.com/notebooks/data_table.ipynb>data table notebook</a>'\n",
              "            + ' to learn more about interactive tables.';\n",
              "          element.innerHTML = '';\n",
              "          dataTable['output_type'] = 'display_data';\n",
              "          await google.colab.output.renderOutput(dataTable, element);\n",
              "          const docLink = document.createElement('div');\n",
              "          docLink.innerHTML = docLinkHtml;\n",
              "          element.appendChild(docLink);\n",
              "        }\n",
              "      </script>\n",
              "    </div>\n",
              "  </div>\n",
              "  "
            ]
          },
          "metadata": {},
          "execution_count": 3
        }
      ]
    },
    {
      "cell_type": "code",
      "source": [
        "df.shape"
      ],
      "metadata": {
        "colab": {
          "base_uri": "https://localhost:8080/"
        },
        "id": "5n91bNy8NOjS",
        "outputId": "88bf4dc0-d08c-4649-c3cb-91f283d1185f"
      },
      "execution_count": null,
      "outputs": [
        {
          "output_type": "execute_result",
          "data": {
            "text/plain": [
              "(1998, 2)"
            ]
          },
          "metadata": {},
          "execution_count": 4
        }
      ]
    },
    {
      "cell_type": "code",
      "source": [
        "df.isnull().sum()"
      ],
      "metadata": {
        "colab": {
          "base_uri": "https://localhost:8080/"
        },
        "id": "oeowDKLzCqII",
        "outputId": "f8043eca-cd5e-49b6-9ecd-0211085048f6"
      },
      "execution_count": null,
      "outputs": [
        {
          "output_type": "execute_result",
          "data": {
            "text/plain": [
              "comments    0\n",
              "target      4\n",
              "dtype: int64"
            ]
          },
          "metadata": {},
          "execution_count": 5
        }
      ]
    },
    {
      "cell_type": "code",
      "source": [
        "df.dropna(inplace = True)"
      ],
      "metadata": {
        "id": "4AjF414xDI-g"
      },
      "execution_count": null,
      "outputs": []
    },
    {
      "cell_type": "code",
      "source": [
        "df.shape"
      ],
      "metadata": {
        "colab": {
          "base_uri": "https://localhost:8080/"
        },
        "id": "Db_IP-uNQfSh",
        "outputId": "1d3c4b4f-070b-4b77-a784-6931d07ce36d"
      },
      "execution_count": null,
      "outputs": [
        {
          "output_type": "execute_result",
          "data": {
            "text/plain": [
              "(1994, 2)"
            ]
          },
          "metadata": {},
          "execution_count": 7
        }
      ]
    },
    {
      "cell_type": "code",
      "source": [
        "df.isnull().sum()"
      ],
      "metadata": {
        "colab": {
          "base_uri": "https://localhost:8080/"
        },
        "id": "FOEoQ9ecQg_7",
        "outputId": "dc423a7d-df18-4952-b7b2-d1beccd5d068"
      },
      "execution_count": null,
      "outputs": [
        {
          "output_type": "execute_result",
          "data": {
            "text/plain": [
              "comments    0\n",
              "target      0\n",
              "dtype: int64"
            ]
          },
          "metadata": {},
          "execution_count": 8
        }
      ]
    },
    {
      "cell_type": "code",
      "source": [
        "df['target'].value_counts()"
      ],
      "metadata": {
        "colab": {
          "base_uri": "https://localhost:8080/"
        },
        "id": "rhPv81L7QlP3",
        "outputId": "289c54cc-e931-4372-c6be-e67d736d3f78"
      },
      "execution_count": null,
      "outputs": [
        {
          "output_type": "execute_result",
          "data": {
            "text/plain": [
              "p    902\n",
              "o    467\n",
              "q    335\n",
              "s    290\n",
              "Name: target, dtype: int64"
            ]
          },
          "metadata": {},
          "execution_count": 9
        }
      ]
    },
    {
      "cell_type": "code",
      "source": [
        "df.info()"
      ],
      "metadata": {
        "colab": {
          "base_uri": "https://localhost:8080/"
        },
        "id": "HpTYK68bQsON",
        "outputId": "abddd669-b522-4d4d-e8d4-377afbe0a092"
      },
      "execution_count": null,
      "outputs": [
        {
          "output_type": "stream",
          "name": "stdout",
          "text": [
            "<class 'pandas.core.frame.DataFrame'>\n",
            "Int64Index: 1994 entries, 0 to 1997\n",
            "Data columns (total 2 columns):\n",
            " #   Column    Non-Null Count  Dtype \n",
            "---  ------    --------------  ----- \n",
            " 0   comments  1994 non-null   object\n",
            " 1   target    1994 non-null   object\n",
            "dtypes: object(2)\n",
            "memory usage: 46.7+ KB\n"
          ]
        }
      ]
    },
    {
      "cell_type": "code",
      "source": [
        "df['comments'] = df['comments'].str.replace(\"[^a-zA-Z?!#]\", \" \")"
      ],
      "metadata": {
        "colab": {
          "base_uri": "https://localhost:8080/"
        },
        "id": "Fh4IYs2HUWPj",
        "outputId": "e8726327-2ad5-4e8e-ac10-2a48ac0909af"
      },
      "execution_count": null,
      "outputs": [
        {
          "output_type": "stream",
          "name": "stderr",
          "text": [
            "/usr/local/lib/python3.7/dist-packages/ipykernel_launcher.py:1: FutureWarning: The default value of regex will change from True to False in a future version.\n",
            "  \"\"\"Entry point for launching an IPython kernel.\n"
          ]
        }
      ]
    },
    {
      "cell_type": "code",
      "source": [
        "df"
      ],
      "metadata": {
        "colab": {
          "base_uri": "https://localhost:8080/",
          "height": 423
        },
        "id": "F0Kus6NbeOuy",
        "outputId": "fb9b51c9-013c-4919-faea-0b8b073a3261"
      },
      "execution_count": null,
      "outputs": [
        {
          "output_type": "execute_result",
          "data": {
            "text/plain": [
              "                                               comments target\n",
              "0     I ve learnt HTML  CSS  Javascript and Python a...      s\n",
              "1     Watched this video one year ago to start my co...      s\n",
              "2     His teaching is the most effective I ve found ...      s\n",
              "3     I finally finished the whole   hours  and now ...      p\n",
              "4     It took me   days to finish this  It s very ea...      p\n",
              "...                                                 ...    ...\n",
              "1993  i love cpp because its simple and good for pro...      p\n",
              "1994  Thank you  It was very well explained and help...      p\n",
              "1995                                                         o\n",
              "1996          I ABSOLUTELY LOVED IT THANK YOU VERY MUCH      p\n",
              "1997  if u know java the first   hour is basically java      s\n",
              "\n",
              "[1994 rows x 2 columns]"
            ],
            "text/html": [
              "\n",
              "  <div id=\"df-b616df9f-4065-4f3f-9aeb-c31ca2cee0c7\">\n",
              "    <div class=\"colab-df-container\">\n",
              "      <div>\n",
              "<style scoped>\n",
              "    .dataframe tbody tr th:only-of-type {\n",
              "        vertical-align: middle;\n",
              "    }\n",
              "\n",
              "    .dataframe tbody tr th {\n",
              "        vertical-align: top;\n",
              "    }\n",
              "\n",
              "    .dataframe thead th {\n",
              "        text-align: right;\n",
              "    }\n",
              "</style>\n",
              "<table border=\"1\" class=\"dataframe\">\n",
              "  <thead>\n",
              "    <tr style=\"text-align: right;\">\n",
              "      <th></th>\n",
              "      <th>comments</th>\n",
              "      <th>target</th>\n",
              "    </tr>\n",
              "  </thead>\n",
              "  <tbody>\n",
              "    <tr>\n",
              "      <th>0</th>\n",
              "      <td>I ve learnt HTML  CSS  Javascript and Python a...</td>\n",
              "      <td>s</td>\n",
              "    </tr>\n",
              "    <tr>\n",
              "      <th>1</th>\n",
              "      <td>Watched this video one year ago to start my co...</td>\n",
              "      <td>s</td>\n",
              "    </tr>\n",
              "    <tr>\n",
              "      <th>2</th>\n",
              "      <td>His teaching is the most effective I ve found ...</td>\n",
              "      <td>s</td>\n",
              "    </tr>\n",
              "    <tr>\n",
              "      <th>3</th>\n",
              "      <td>I finally finished the whole   hours  and now ...</td>\n",
              "      <td>p</td>\n",
              "    </tr>\n",
              "    <tr>\n",
              "      <th>4</th>\n",
              "      <td>It took me   days to finish this  It s very ea...</td>\n",
              "      <td>p</td>\n",
              "    </tr>\n",
              "    <tr>\n",
              "      <th>...</th>\n",
              "      <td>...</td>\n",
              "      <td>...</td>\n",
              "    </tr>\n",
              "    <tr>\n",
              "      <th>1993</th>\n",
              "      <td>i love cpp because its simple and good for pro...</td>\n",
              "      <td>p</td>\n",
              "    </tr>\n",
              "    <tr>\n",
              "      <th>1994</th>\n",
              "      <td>Thank you  It was very well explained and help...</td>\n",
              "      <td>p</td>\n",
              "    </tr>\n",
              "    <tr>\n",
              "      <th>1995</th>\n",
              "      <td></td>\n",
              "      <td>o</td>\n",
              "    </tr>\n",
              "    <tr>\n",
              "      <th>1996</th>\n",
              "      <td>I ABSOLUTELY LOVED IT THANK YOU VERY MUCH</td>\n",
              "      <td>p</td>\n",
              "    </tr>\n",
              "    <tr>\n",
              "      <th>1997</th>\n",
              "      <td>if u know java the first   hour is basically java</td>\n",
              "      <td>s</td>\n",
              "    </tr>\n",
              "  </tbody>\n",
              "</table>\n",
              "<p>1994 rows × 2 columns</p>\n",
              "</div>\n",
              "      <button class=\"colab-df-convert\" onclick=\"convertToInteractive('df-b616df9f-4065-4f3f-9aeb-c31ca2cee0c7')\"\n",
              "              title=\"Convert this dataframe to an interactive table.\"\n",
              "              style=\"display:none;\">\n",
              "        \n",
              "  <svg xmlns=\"http://www.w3.org/2000/svg\" height=\"24px\"viewBox=\"0 0 24 24\"\n",
              "       width=\"24px\">\n",
              "    <path d=\"M0 0h24v24H0V0z\" fill=\"none\"/>\n",
              "    <path d=\"M18.56 5.44l.94 2.06.94-2.06 2.06-.94-2.06-.94-.94-2.06-.94 2.06-2.06.94zm-11 1L8.5 8.5l.94-2.06 2.06-.94-2.06-.94L8.5 2.5l-.94 2.06-2.06.94zm10 10l.94 2.06.94-2.06 2.06-.94-2.06-.94-.94-2.06-.94 2.06-2.06.94z\"/><path d=\"M17.41 7.96l-1.37-1.37c-.4-.4-.92-.59-1.43-.59-.52 0-1.04.2-1.43.59L10.3 9.45l-7.72 7.72c-.78.78-.78 2.05 0 2.83L4 21.41c.39.39.9.59 1.41.59.51 0 1.02-.2 1.41-.59l7.78-7.78 2.81-2.81c.8-.78.8-2.07 0-2.86zM5.41 20L4 18.59l7.72-7.72 1.47 1.35L5.41 20z\"/>\n",
              "  </svg>\n",
              "      </button>\n",
              "      \n",
              "  <style>\n",
              "    .colab-df-container {\n",
              "      display:flex;\n",
              "      flex-wrap:wrap;\n",
              "      gap: 12px;\n",
              "    }\n",
              "\n",
              "    .colab-df-convert {\n",
              "      background-color: #E8F0FE;\n",
              "      border: none;\n",
              "      border-radius: 50%;\n",
              "      cursor: pointer;\n",
              "      display: none;\n",
              "      fill: #1967D2;\n",
              "      height: 32px;\n",
              "      padding: 0 0 0 0;\n",
              "      width: 32px;\n",
              "    }\n",
              "\n",
              "    .colab-df-convert:hover {\n",
              "      background-color: #E2EBFA;\n",
              "      box-shadow: 0px 1px 2px rgba(60, 64, 67, 0.3), 0px 1px 3px 1px rgba(60, 64, 67, 0.15);\n",
              "      fill: #174EA6;\n",
              "    }\n",
              "\n",
              "    [theme=dark] .colab-df-convert {\n",
              "      background-color: #3B4455;\n",
              "      fill: #D2E3FC;\n",
              "    }\n",
              "\n",
              "    [theme=dark] .colab-df-convert:hover {\n",
              "      background-color: #434B5C;\n",
              "      box-shadow: 0px 1px 3px 1px rgba(0, 0, 0, 0.15);\n",
              "      filter: drop-shadow(0px 1px 2px rgba(0, 0, 0, 0.3));\n",
              "      fill: #FFFFFF;\n",
              "    }\n",
              "  </style>\n",
              "\n",
              "      <script>\n",
              "        const buttonEl =\n",
              "          document.querySelector('#df-b616df9f-4065-4f3f-9aeb-c31ca2cee0c7 button.colab-df-convert');\n",
              "        buttonEl.style.display =\n",
              "          google.colab.kernel.accessAllowed ? 'block' : 'none';\n",
              "\n",
              "        async function convertToInteractive(key) {\n",
              "          const element = document.querySelector('#df-b616df9f-4065-4f3f-9aeb-c31ca2cee0c7');\n",
              "          const dataTable =\n",
              "            await google.colab.kernel.invokeFunction('convertToInteractive',\n",
              "                                                     [key], {});\n",
              "          if (!dataTable) return;\n",
              "\n",
              "          const docLinkHtml = 'Like what you see? Visit the ' +\n",
              "            '<a target=\"_blank\" href=https://colab.research.google.com/notebooks/data_table.ipynb>data table notebook</a>'\n",
              "            + ' to learn more about interactive tables.';\n",
              "          element.innerHTML = '';\n",
              "          dataTable['output_type'] = 'display_data';\n",
              "          await google.colab.output.renderOutput(dataTable, element);\n",
              "          const docLink = document.createElement('div');\n",
              "          docLink.innerHTML = docLinkHtml;\n",
              "          element.appendChild(docLink);\n",
              "        }\n",
              "      </script>\n",
              "    </div>\n",
              "  </div>\n",
              "  "
            ]
          },
          "metadata": {},
          "execution_count": 12
        }
      ]
    },
    {
      "cell_type": "code",
      "source": [
        "X = df['comments']\n",
        "y = df['target']"
      ],
      "metadata": {
        "id": "EcuRUyNSXKkj"
      },
      "execution_count": null,
      "outputs": []
    },
    {
      "cell_type": "code",
      "source": [
        "from sklearn.model_selection import train_test_split\n",
        "\n",
        "X_train, X_test, y_train, y_test = train_test_split(X,y,test_size=0.1, stratify=y,random_state=42)"
      ],
      "metadata": {
        "id": "4y011CkZXShP"
      },
      "execution_count": null,
      "outputs": []
    },
    {
      "cell_type": "code",
      "source": [
        "y_train.value_counts()"
      ],
      "metadata": {
        "colab": {
          "base_uri": "https://localhost:8080/"
        },
        "id": "qT2gIWUrX-r7",
        "outputId": "d3fbca3e-52f1-493e-9511-356ed26c24f5"
      },
      "execution_count": null,
      "outputs": [
        {
          "output_type": "execute_result",
          "data": {
            "text/plain": [
              "p    812\n",
              "o    420\n",
              "q    301\n",
              "s    261\n",
              "Name: target, dtype: int64"
            ]
          },
          "metadata": {},
          "execution_count": 15
        }
      ]
    },
    {
      "cell_type": "code",
      "source": [
        "y_test.value_counts()"
      ],
      "metadata": {
        "colab": {
          "base_uri": "https://localhost:8080/"
        },
        "id": "KZH4yMUVYFmt",
        "outputId": "20a6be2d-f8ba-4e0c-a4e7-b46c1ae2b2e5"
      },
      "execution_count": null,
      "outputs": [
        {
          "output_type": "execute_result",
          "data": {
            "text/plain": [
              "p    90\n",
              "o    47\n",
              "q    34\n",
              "s    29\n",
              "Name: target, dtype: int64"
            ]
          },
          "metadata": {},
          "execution_count": 16
        }
      ]
    },
    {
      "cell_type": "code",
      "source": [
        "X_train"
      ],
      "metadata": {
        "colab": {
          "base_uri": "https://localhost:8080/"
        },
        "id": "ssWAoXLsZutT",
        "outputId": "06b0273c-08e0-4118-f8ee-3b1811adf1e2"
      },
      "execution_count": null,
      "outputs": [
        {
          "output_type": "execute_result",
          "data": {
            "text/plain": [
              "370           Note that you cannot put  phrase       B...\n",
              "896     If you know C first    hrs is enough     Rest ...\n",
              "864                Dont mind me  Just keeping track   ...\n",
              "211     Life saver!  Uni s may as well show this conci...\n",
              "1331    I tried a few other intro to C   videos before...\n",
              "                              ...                        \n",
              "1408    I really wanted to study at home but I don t h...\n",
              "239     I am here because the following week my c   cl...\n",
              "270     Good teacher  which is rare in this field  See...\n",
              "720     Mike thanks a million   I especially enjoyed y...\n",
              "735     Hey i downloaded the mingw setup  but still go...\n",
              "Name: comments, Length: 1794, dtype: object"
            ]
          },
          "metadata": {},
          "execution_count": 17
        }
      ]
    },
    {
      "cell_type": "code",
      "source": [
        "train_sentences = X_train.to_list()\n",
        "test_sentences = X_test.to_list()"
      ],
      "metadata": {
        "id": "FIKXPhhkiKhS"
      },
      "execution_count": null,
      "outputs": []
    },
    {
      "cell_type": "code",
      "source": [
        "# One hot encode labels\n",
        "from sklearn.preprocessing import OneHotEncoder\n",
        "one_hot_encoder = OneHotEncoder(sparse=False)\n",
        "train_labels_one_hot = one_hot_encoder.fit_transform(y_train.to_numpy().reshape(-1, 1))\n",
        "test_labels_one_hot = one_hot_encoder.transform(y_test.to_numpy().reshape(-1, 1))\n",
        "\n",
        "# check what one hot encoded labels look like\n",
        "train_labels_one_hot"
      ],
      "metadata": {
        "colab": {
          "base_uri": "https://localhost:8080/"
        },
        "id": "w5EHuU3ijCKD",
        "outputId": "df96b025-fbda-43d4-f5e2-208e6ab8e0f3"
      },
      "execution_count": null,
      "outputs": [
        {
          "output_type": "execute_result",
          "data": {
            "text/plain": [
              "array([[0., 0., 0., 1.],\n",
              "       [0., 0., 0., 1.],\n",
              "       [1., 0., 0., 0.],\n",
              "       ...,\n",
              "       [0., 1., 0., 0.],\n",
              "       [0., 1., 0., 0.],\n",
              "       [0., 0., 1., 0.]])"
            ]
          },
          "metadata": {},
          "execution_count": 19
        }
      ]
    },
    {
      "cell_type": "code",
      "source": [
        "from sklearn.preprocessing import LabelEncoder \n",
        "label_encoder = LabelEncoder()\n",
        "train_labels_encoded = label_encoder.fit_transform(y_train.to_numpy())\n",
        "test_label_encoded = label_encoder.transform(y_test.to_numpy())\n",
        "\n",
        "# check what training labels look like\n",
        "train_labels_encoded"
      ],
      "metadata": {
        "colab": {
          "base_uri": "https://localhost:8080/"
        },
        "id": "ybPpFqH8jV8G",
        "outputId": "39d2480e-ee2b-48a6-e65d-4edf11168ac7"
      },
      "execution_count": null,
      "outputs": [
        {
          "output_type": "execute_result",
          "data": {
            "text/plain": [
              "array([3, 3, 0, ..., 1, 1, 2])"
            ]
          },
          "metadata": {},
          "execution_count": 20
        }
      ]
    },
    {
      "cell_type": "code",
      "source": [
        "num_classes = len(label_encoder.classes_)\n",
        "class_names = label_encoder.classes_\n",
        "num_classes, class_names"
      ],
      "metadata": {
        "colab": {
          "base_uri": "https://localhost:8080/"
        },
        "id": "2UF5EkzejeFL",
        "outputId": "213f5013-f4fb-4fda-fdf6-2f814ab4f76a"
      },
      "execution_count": null,
      "outputs": [
        {
          "output_type": "execute_result",
          "data": {
            "text/plain": [
              "(4, array(['o', 'p', 'q', 's'], dtype=object))"
            ]
          },
          "metadata": {},
          "execution_count": 21
        }
      ]
    },
    {
      "cell_type": "markdown",
      "source": [
        "## Preparing our data (the text) for deep sequence models"
      ],
      "metadata": {
        "id": "ej5W660ooMpx"
      }
    },
    {
      "cell_type": "code",
      "source": [
        "import numpy as np\n",
        "import tensorflow as tf\n",
        "from tensorflow.keras import layers"
      ],
      "metadata": {
        "id": "Ybtzy5ORm1w4"
      },
      "execution_count": null,
      "outputs": []
    },
    {
      "cell_type": "code",
      "source": [
        "# how long is each sentence on average ?\n",
        "sent_lens = [len(sentences.split()) for sentences in train_sentences]\n",
        "avg_sent_lens = np.mean(sent_lens)\n",
        "avg_sent_lens"
      ],
      "metadata": {
        "colab": {
          "base_uri": "https://localhost:8080/"
        },
        "id": "y6g18EOMoCPA",
        "outputId": "84129eeb-78c0-445d-b848-26c5698cf4e1"
      },
      "execution_count": null,
      "outputs": [
        {
          "output_type": "execute_result",
          "data": {
            "text/plain": [
              "20.644370122630992"
            ]
          },
          "metadata": {},
          "execution_count": 23
        }
      ]
    },
    {
      "cell_type": "code",
      "source": [
        "import matplotlib.pyplot as plt\n",
        "plt.hist(sent_lens, bins=20);"
      ],
      "metadata": {
        "colab": {
          "base_uri": "https://localhost:8080/",
          "height": 265
        },
        "id": "I27aQCK9xVQo",
        "outputId": "dc2ca7cd-89bd-4961-b28f-8b405517d574"
      },
      "execution_count": null,
      "outputs": [
        {
          "output_type": "display_data",
          "data": {
            "text/plain": [
              "<Figure size 432x288 with 1 Axes>"
            ],
            "image/png": "[encoded data removed]"
          },
          "metadata": {
            "needs_background": "light"
          }
        }
      ]
    },
    {
      "cell_type": "code",
      "source": [
        "# How long of a setnence lenght covers 95% of examples?\n",
        "output_seq_len = int(np.percentile(sent_lens, 95))\n",
        "output_seq_len"
      ],
      "metadata": {
        "colab": {
          "base_uri": "https://localhost:8080/"
        },
        "id": "pimZRBTCxaZJ",
        "outputId": "96c57b71-92c8-4eda-e0e4-9910dd6e5285"
      },
      "execution_count": null,
      "outputs": [
        {
          "output_type": "execute_result",
          "data": {
            "text/plain": [
              "64"
            ]
          },
          "metadata": {},
          "execution_count": 25
        }
      ]
    },
    {
      "cell_type": "code",
      "source": [
        "max(sent_lens)"
      ],
      "metadata": {
        "colab": {
          "base_uri": "https://localhost:8080/"
        },
        "id": "v41ScawAxhL4",
        "outputId": "f8f94ff5-b1d2-4909-91d0-bc09a31f02d9"
      },
      "execution_count": null,
      "outputs": [
        {
          "output_type": "execute_result",
          "data": {
            "text/plain": [
              "205"
            ]
          },
          "metadata": {},
          "execution_count": 26
        }
      ]
    },
    {
      "cell_type": "markdown",
      "source": [
        "### Create text vectorization layer\n"
      ],
      "metadata": {
        "id": "nt04KutQxkzl"
      }
    },
    {
      "cell_type": "code",
      "source": [
        "from tensorflow.keras.layers.experimental.preprocessing import TextVectorization\n",
        "\n",
        "text_vectorizer = TextVectorization(output_sequence_length = output_seq_len)"
      ],
      "metadata": {
        "id": "pVWlezJXxtLN"
      },
      "execution_count": null,
      "outputs": []
    },
    {
      "cell_type": "code",
      "source": [
        "text_vectorizer.adapt(train_sentences)"
      ],
      "metadata": {
        "id": "e3JqdywzzB15"
      },
      "execution_count": null,
      "outputs": []
    },
    {
      "cell_type": "code",
      "source": [
        "import random\n",
        "target_sentence = random.choice(train_sentences)\n",
        "print(f\"Text:\\n{target_sentence}\")\n",
        "print(f\"\\nLength of text: {len(target_sentence.split())}\")\n",
        "print(f\"\\nVectorized text: {text_vectorizer([target_sentence])}\")"
      ],
      "metadata": {
        "colab": {
          "base_uri": "https://localhost:8080/"
        },
        "id": "JUF2e6G0zITb",
        "outputId": "e33a2c38-49ef-4647-e56e-59c2648d5093"
      },
      "execution_count": null,
      "outputs": [
        {
          "output_type": "stream",
          "name": "stdout",
          "text": [
            "Text:\n",
            "Well done Mike! Very clear and understandable  You have a great personality and delivery for these types of videos \n",
            "\n",
            "Length of text: 19\n",
            "\n",
            "Vectorized text: [[  79  200   66   44  277    8  470    6   27    4   48 2282    8 1588\n",
            "    12  169  279   14  155    0    0    0    0    0    0    0    0    0\n",
            "     0    0    0    0    0    0    0    0    0    0    0    0    0    0\n",
            "     0    0    0    0    0    0    0    0    0    0    0    0    0    0\n",
            "     0    0    0    0    0    0    0    0]]\n"
          ]
        }
      ]
    },
    {
      "cell_type": "code",
      "source": [
        "yt_comments_text_vocab = text_vectorizer.get_vocabulary()\n",
        "print(f\"Number of words in vocab: {len(yt_comments_text_vocab)}\")\n",
        "print(f\"Most common words in the vocab: {yt_comments_text_vocab[:5]}\")\n",
        "print(f\"Least common words in the vocab: {yt_comments_text_vocab[-5:]}\")"
      ],
      "metadata": {
        "colab": {
          "base_uri": "https://localhost:8080/"
        },
        "id": "D8oDjSRMzMEG",
        "outputId": "b96a0ccd-3492-4368-d212-3499c7a0ffa0"
      },
      "execution_count": null,
      "outputs": [
        {
          "output_type": "stream",
          "name": "stdout",
          "text": [
            "Number of words in vocab: 3294\n",
            "Most common words in the vocab: ['', '[UNK]', 'i', 'the', 'a']\n",
            "Least common words in the vocab: ['absence', 'abrupt', 'above', 'abilities', 'aayaaa']\n"
          ]
        }
      ]
    },
    {
      "cell_type": "code",
      "source": [
        "text_vectorizer.get_config()"
      ],
      "metadata": {
        "colab": {
          "base_uri": "https://localhost:8080/"
        },
        "id": "PSOvxtRUzrgO",
        "outputId": "55de3918-5bb3-4dc8-aee7-43519648e5cb"
      },
      "execution_count": null,
      "outputs": [
        {
          "output_type": "execute_result",
          "data": {
            "text/plain": [
              "{'batch_input_shape': (None,),\n",
              " 'dtype': 'string',\n",
              " 'idf_weights': None,\n",
              " 'max_tokens': None,\n",
              " 'name': 'text_vectorization',\n",
              " 'ngrams': None,\n",
              " 'output_mode': 'int',\n",
              " 'output_sequence_length': 64,\n",
              " 'pad_to_max_tokens': False,\n",
              " 'ragged': False,\n",
              " 'sparse': False,\n",
              " 'split': 'whitespace',\n",
              " 'standardize': 'lower_and_strip_punctuation',\n",
              " 'trainable': True,\n",
              " 'vocabulary': None}"
            ]
          },
          "metadata": {},
          "execution_count": 31
        }
      ]
    },
    {
      "cell_type": "markdown",
      "source": [
        "## Create custom text embedding"
      ],
      "metadata": {
        "id": "SuN27u8Iz0Ny"
      }
    },
    {
      "cell_type": "code",
      "source": [
        "# Create token embedding layer\n",
        "token_embed = layers.Embedding(input_dim = len(yt_comments_text_vocab),\n",
        "                               output_dim = 128,\n",
        "                               mask_zero = True,\n",
        "                               name = \"token_embedding\")"
      ],
      "metadata": {
        "id": "QZzqxEs-z-mH"
      },
      "execution_count": null,
      "outputs": []
    },
    {
      "cell_type": "code",
      "source": [
        "# Show example embedding\n",
        "print(f\"Sentence before vectorization:\\n {target_sentence}\\n\")\n",
        "vectorized_sentence = text_vectorizer([target_sentence])\n",
        "print(f\"Sentence after vectorization (before embedding):\\n {vectorized_sentence}\\n\")\n",
        "embedded_sentence = token_embed(vectorized_sentence)\n",
        "print(f\"Sentence after embedding:\\n {embedded_sentence}\\n\")\n",
        "print(f\"Embedded sentence shape: {embedded_sentence.shape}\")"
      ],
      "metadata": {
        "colab": {
          "base_uri": "https://localhost:8080/"
        },
        "id": "wBDSfYf70CGZ",
        "outputId": "33d1aedc-5054-4b14-8751-2ec91fe5ee55"
      },
      "execution_count": null,
      "outputs": [
        {
          "output_type": "stream",
          "name": "stdout",
          "text": [
            "Sentence before vectorization:\n",
            " Well done Mike! Very clear and understandable  You have a great personality and delivery for these types of videos \n",
            "\n",
            "Sentence after vectorization (before embedding):\n",
            " [[  79  200   66   44  277    8  470    6   27    4   48 2282    8 1588\n",
            "    12  169  279   14  155    0    0    0    0    0    0    0    0    0\n",
            "     0    0    0    0    0    0    0    0    0    0    0    0    0    0\n",
            "     0    0    0    0    0    0    0    0    0    0    0    0    0    0\n",
            "     0    0    0    0    0    0    0    0]]\n",
            "\n",
            "Sentence after embedding:\n",
            " [[[-0.03069863 -0.01561354 -0.02183708 ... -0.02760247  0.03377595\n",
            "    0.00150744]\n",
            "  [ 0.04754115  0.02665031 -0.0193957  ...  0.03987024 -0.01259035\n",
            "    0.00971395]\n",
            "  [-0.04397038  0.01051644  0.0114022  ...  0.04319098 -0.00605176\n",
            "   -0.03041822]\n",
            "  ...\n",
            "  [-0.03664418 -0.01932259 -0.02390077 ...  0.03852923  0.04145045\n",
            "    0.01922807]\n",
            "  [-0.03664418 -0.01932259 -0.02390077 ...  0.03852923  0.04145045\n",
            "    0.01922807]\n",
            "  [-0.03664418 -0.01932259 -0.02390077 ...  0.03852923  0.04145045\n",
            "    0.01922807]]]\n",
            "\n",
            "Embedded sentence shape: (1, 64, 128)\n"
          ]
        }
      ]
    },
    {
      "cell_type": "markdown",
      "source": [
        "## Creating Datasets"
      ],
      "metadata": {
        "id": "MyOthXgB0IcT"
      }
    },
    {
      "cell_type": "code",
      "source": [
        "# Turn our data into TensorFlow Datasets\n",
        "train_dataset = tf.data.Dataset.from_tensor_slices((train_sentences, train_labels_one_hot))\n",
        "test_dataset = tf.data.Dataset.from_tensor_slices((test_sentences, test_labels_one_hot))\n",
        "\n",
        "train_dataset"
      ],
      "metadata": {
        "colab": {
          "base_uri": "https://localhost:8080/"
        },
        "id": "xBXH56_C0WG4",
        "outputId": "39205b16-80f5-48d7-b479-5a248f2199e0"
      },
      "execution_count": null,
      "outputs": [
        {
          "output_type": "execute_result",
          "data": {
            "text/plain": [
              "<TensorSliceDataset element_spec=(TensorSpec(shape=(), dtype=tf.string, name=None), TensorSpec(shape=(4,), dtype=tf.float64, name=None))>"
            ]
          },
          "metadata": {},
          "execution_count": 34
        }
      ]
    },
    {
      "cell_type": "code",
      "source": [
        "# Take the TensorSliceDataset's and turn them into prefetched batches\n",
        "train_dataset = train_dataset.batch(32).prefetch(tf.data.AUTOTUNE)\n",
        "test_dataset = test_dataset.batch(32).prefetch(tf.data.AUTOTUNE)\n",
        "\n",
        "train_dataset"
      ],
      "metadata": {
        "colab": {
          "base_uri": "https://localhost:8080/"
        },
        "id": "gBVHlcza0Z3K",
        "outputId": "bf504fa6-ac37-445c-803a-7f35de620b8e"
      },
      "execution_count": null,
      "outputs": [
        {
          "output_type": "execute_result",
          "data": {
            "text/plain": [
              "<PrefetchDataset element_spec=(TensorSpec(shape=(None,), dtype=tf.string, name=None), TensorSpec(shape=(None, 4), dtype=tf.float64, name=None))>"
            ]
          },
          "metadata": {},
          "execution_count": 35
        }
      ]
    },
    {
      "cell_type": "markdown",
      "source": [
        "## Model 2: Feature extraction with pretrained token embedding"
      ],
      "metadata": {
        "id": "LoIArgWz3h4t"
      }
    },
    {
      "cell_type": "code",
      "source": [
        "import tensorflow_hub as hub\n",
        "tf_hub_embedding_layer = hub.KerasLayer(\"https://tfhub.dev/google/universal-sentence-encoder/4\",\n",
        "                                        trainable=False,\n",
        "                                        name=\"universal_sentence_encoder\")"
      ],
      "metadata": {
        "id": "ujEjPTH54GeZ"
      },
      "execution_count": null,
      "outputs": []
    },
    {
      "cell_type": "code",
      "source": [
        "random_train_sentence = random.choice(train_sentences)\n",
        "print(f\"Random sentence:\\n {random_train_sentence}\")\n",
        "use_embedded_sentence = tf_hub_embedding_layer([random_train_sentence])\n",
        "print(f\"Setence after embedding:\\n{use_embedded_sentence[0][:30]}\\n\")\n",
        "print(f\"Length of sentence embedding: {len(use_embedded_sentence[0])}\")"
      ],
      "metadata": {
        "colab": {
          "base_uri": "https://localhost:8080/"
        },
        "id": "BVsXuy664pRc",
        "outputId": "5f475d64-eb50-4dc6-f982-8ed3349f2152"
      },
      "execution_count": null,
      "outputs": [
        {
          "output_type": "stream",
          "name": "stdout",
          "text": [
            "Random sentence:\n",
            "   Jim and Pam      Someone who has watched the Office \n",
            "Setence after embedding:\n",
            "[ 0.05175815  0.06097346 -0.03661058 -0.0152378   0.05543878  0.03589327\n",
            "  0.05970782 -0.00074258 -0.03214323  0.01771715 -0.02889378 -0.06835857\n",
            "  0.00904546 -0.03438331 -0.01124823 -0.0785576   0.0266153   0.033163\n",
            " -0.00155212 -0.03753167  0.05720804 -0.00962511  0.0184453  -0.04069668\n",
            "  0.02126196 -0.01168624 -0.07810859  0.03809431 -0.03299234 -0.07895615]\n",
            "\n",
            "Length of sentence embedding: 512\n"
          ]
        }
      ]
    },
    {
      "cell_type": "code",
      "source": [
        "inputs = layers.Input(shape=[], dtype=tf.string)\n",
        "pretrained_embedding = tf_hub_embedding_layer(inputs)\n",
        "\n",
        "x = layers.Dense(512, activation='relu')(pretrained_embedding)\n",
        "x = layers.Dropout(0.2)(x)\n",
        "x = layers.Dense(256, activation='relu')(x)\n",
        "x = layers.Dropout(0.2)(x)\n",
        "x = layers.Dense(128, activation='relu')(x)\n",
        "# x = layers.Dense(32, activation='relu')(x)\n",
        "# x = layers.Dense(16, activation='relu')(x)\n",
        "# x = layers.Dense(8, activation='relu')(x)\n",
        "outputs = layers.Dense(num_classes, activation='softmax')(x)\n",
        "model_2 = tf.keras.Model(inputs=inputs,\n",
        "                         outputs=outputs,\n",
        "                         name=\"model_2_USE_feature_extractor\")\n",
        "\n",
        "early_stopping = tf.keras.callbacks.EarlyStopping(monitor = 'val_loss', mode = 'min',\n",
        "                                                  verbose = 1, patience = 5)\n",
        "\n",
        "reduce_lr = tf.keras.callbacks.ReduceLROnPlateau(monitor='val_loss', factor=0.2,\n",
        "                                                 patience=5, min_lr=0.00001)\n",
        "\n",
        "\n",
        "model_2.compile(loss = 'categorical_crossentropy',\n",
        "                optimizer = tf.keras.optimizers.Adam(lr=0.0001),\n",
        "                metrics = [\"accuracy\"])"
      ],
      "metadata": {
        "colab": {
          "base_uri": "https://localhost:8080/"
        },
        "id": "MHA4JOUU5KbE",
        "outputId": "1d9f4c1a-f5d4-4a72-cad0-7db621678ceb"
      },
      "execution_count": null,
      "outputs": [
        {
          "output_type": "stream",
          "name": "stderr",
          "text": [
            "/usr/local/lib/python3.7/dist-packages/keras/optimizer_v2/adam.py:105: UserWarning: The `lr` argument is deprecated, use `learning_rate` instead.\n",
            "  super(Adam, self).__init__(name, **kwargs)\n"
          ]
        }
      ]
    },
    {
      "cell_type": "code",
      "source": [
        "model_2.summary()"
      ],
      "metadata": {
        "colab": {
          "base_uri": "https://localhost:8080/"
        },
        "id": "8umR3he55V1_",
        "outputId": "394eb2c2-e06d-4ec5-a4e8-9374d4da4ea5"
      },
      "execution_count": null,
      "outputs": [
        {
          "output_type": "stream",
          "name": "stdout",
          "text": [
            "Model: \"model_2_USE_feature_extractor\"\n",
            "_________________________________________________________________\n",
            " Layer (type)                Output Shape              Param #   \n",
            "=================================================================\n",
            " input_1 (InputLayer)        [(None,)]                 0         \n",
            "                                                                 \n",
            " universal_sentence_encoder   (None, 512)              256797824 \n",
            " (KerasLayer)                                                    \n",
            "                                                                 \n",
            " dense (Dense)               (None, 512)               262656    \n",
            "                                                                 \n",
            " dropout (Dropout)           (None, 512)               0         \n",
            "                                                                 \n",
            " dense_1 (Dense)             (None, 256)               131328    \n",
            "                                                                 \n",
            " dropout_1 (Dropout)         (None, 256)               0         \n",
            "                                                                 \n",
            " dense_2 (Dense)             (None, 128)               32896     \n",
            "                                                                 \n",
            " dense_3 (Dense)             (None, 4)                 516       \n",
            "                                                                 \n",
            "=================================================================\n",
            "Total params: 257,225,220\n",
            "Trainable params: 427,396\n",
            "Non-trainable params: 256,797,824\n",
            "_________________________________________________________________\n"
          ]
        }
      ]
    },
    {
      "cell_type": "code",
      "source": [
        "history_model_2 = model_2.fit(train_dataset,\n",
        "                              epochs=50,\n",
        "                              validation_data=test_dataset,\n",
        "                              callbacks = [early_stopping,reduce_lr])"
      ],
      "metadata": {
        "colab": {
          "base_uri": "https://localhost:8080/"
        },
        "id": "nBT2j2Jo5Y8f",
        "outputId": "ac0a62aa-caf3-4bb4-a0b3-e51970eb73e9"
      },
      "execution_count": null,
      "outputs": [
        {
          "output_type": "stream",
          "name": "stdout",
          "text": [
            "Epoch 1/50\n",
            "57/57 [==============================] - 5s 30ms/step - loss: 1.3079 - accuracy: 0.4822 - val_loss: 1.1863 - val_accuracy: 0.5000 - lr: 1.0000e-04\n",
            "Epoch 2/50\n",
            "57/57 [==============================] - 1s 20ms/step - loss: 1.0899 - accuracy: 0.5039 - val_loss: 0.9949 - val_accuracy: 0.5450 - lr: 1.0000e-04\n",
            "Epoch 3/50\n",
            "57/57 [==============================] - 1s 19ms/step - loss: 0.9222 - accuracy: 0.6148 - val_loss: 0.8722 - val_accuracy: 0.6700 - lr: 1.0000e-04\n",
            "Epoch 4/50\n",
            "57/57 [==============================] - 1s 20ms/step - loss: 0.8160 - accuracy: 0.6957 - val_loss: 0.7916 - val_accuracy: 0.6950 - lr: 1.0000e-04\n",
            "Epoch 5/50\n",
            "57/57 [==============================] - 1s 20ms/step - loss: 0.7341 - accuracy: 0.7191 - val_loss: 0.7326 - val_accuracy: 0.7150 - lr: 1.0000e-04\n",
            "Epoch 6/50\n",
            "57/57 [==============================] - 1s 20ms/step - loss: 0.6634 - accuracy: 0.7475 - val_loss: 0.6873 - val_accuracy: 0.7500 - lr: 1.0000e-04\n",
            "Epoch 7/50\n",
            "57/57 [==============================] - 1s 19ms/step - loss: 0.6040 - accuracy: 0.7781 - val_loss: 0.6586 - val_accuracy: 0.7700 - lr: 1.0000e-04\n",
            "Epoch 8/50\n",
            "57/57 [==============================] - 1s 20ms/step - loss: 0.5673 - accuracy: 0.7860 - val_loss: 0.6398 - val_accuracy: 0.7600 - lr: 1.0000e-04\n",
            "Epoch 9/50\n",
            "57/57 [==============================] - 1s 20ms/step - loss: 0.5307 - accuracy: 0.8043 - val_loss: 0.6294 - val_accuracy: 0.7650 - lr: 1.0000e-04\n",
            "Epoch 10/50\n",
            "57/57 [==============================] - 1s 20ms/step - loss: 0.5067 - accuracy: 0.8172 - val_loss: 0.6250 - val_accuracy: 0.7600 - lr: 1.0000e-04\n",
            "Epoch 11/50\n",
            "57/57 [==============================] - 1s 20ms/step - loss: 0.4710 - accuracy: 0.8289 - val_loss: 0.6265 - val_accuracy: 0.7650 - lr: 1.0000e-04\n",
            "Epoch 12/50\n",
            "57/57 [==============================] - 1s 19ms/step - loss: 0.4498 - accuracy: 0.8317 - val_loss: 0.6292 - val_accuracy: 0.7650 - lr: 1.0000e-04\n",
            "Epoch 13/50\n",
            "57/57 [==============================] - 1s 19ms/step - loss: 0.4256 - accuracy: 0.8467 - val_loss: 0.6314 - val_accuracy: 0.7650 - lr: 1.0000e-04\n",
            "Epoch 14/50\n",
            "57/57 [==============================] - 1s 20ms/step - loss: 0.4049 - accuracy: 0.8489 - val_loss: 0.6364 - val_accuracy: 0.7600 - lr: 1.0000e-04\n",
            "Epoch 15/50\n",
            "57/57 [==============================] - 1s 20ms/step - loss: 0.3902 - accuracy: 0.8584 - val_loss: 0.6433 - val_accuracy: 0.7600 - lr: 1.0000e-04\n",
            "Epoch 15: early stopping\n"
          ]
        }
      ]
    },
    {
      "cell_type": "code",
      "source": [
        "model_2_preds = model_2.predict(test_sentences)\n",
        "\n",
        "model_2_preds = tf.argmax(model_2_preds, axis=1)\n",
        "model_2_preds"
      ],
      "metadata": {
        "colab": {
          "base_uri": "https://localhost:8080/"
        },
        "id": "29viWoA35kcU",
        "outputId": "50dadf5e-e785-4495-fcda-1ccdf7122827"
      },
      "execution_count": null,
      "outputs": [
        {
          "output_type": "execute_result",
          "data": {
            "text/plain": [
              "<tf.Tensor: shape=(200,), dtype=int64, numpy=\n",
              "array([3, 1, 1, 3, 1, 1, 0, 0, 1, 0, 1, 2, 3, 0, 2, 0, 1, 1, 1, 1, 1, 3,\n",
              "       0, 1, 3, 2, 1, 2, 3, 2, 1, 1, 1, 0, 2, 2, 1, 3, 0, 2, 1, 0, 1, 2,\n",
              "       2, 2, 0, 0, 1, 2, 0, 1, 1, 1, 0, 0, 0, 2, 0, 1, 2, 1, 1, 1, 2, 1,\n",
              "       1, 0, 0, 0, 0, 1, 1, 1, 1, 1, 1, 1, 2, 1, 2, 0, 1, 1, 1, 2, 1, 1,\n",
              "       1, 2, 0, 1, 1, 0, 1, 2, 0, 1, 3, 1, 1, 3, 3, 2, 1, 2, 1, 0, 1, 3,\n",
              "       1, 1, 1, 3, 1, 1, 1, 2, 1, 0, 1, 3, 1, 2, 1, 1, 2, 1, 2, 1, 2, 2,\n",
              "       0, 0, 1, 3, 3, 3, 0, 0, 0, 2, 1, 1, 1, 3, 3, 3, 3, 1, 1, 1, 1, 3,\n",
              "       1, 3, 0, 0, 1, 3, 3, 3, 1, 0, 3, 2, 1, 1, 0, 1, 1, 3, 1, 1, 0, 2,\n",
              "       3, 0, 0, 1, 1, 3, 0, 2, 1, 1, 1, 1, 3, 1, 2, 2, 0, 0, 1, 3, 0, 0,\n",
              "       3, 1])>"
            ]
          },
          "metadata": {},
          "execution_count": 41
        }
      ]
    },
    {
      "cell_type": "code",
      "source": [
        "from sklearn.metrics import confusion_matrix, ConfusionMatrixDisplay\n",
        "import seaborn as sns\n",
        "\n",
        "matrix_2 = confusion_matrix(y_true=test_label_encoded, y_pred=model_2_preds)\n",
        "\n",
        "p2 = ConfusionMatrixDisplay(matrix_2)\n",
        "p2.plot();"
      ],
      "metadata": {
        "colab": {
          "base_uri": "https://localhost:8080/",
          "height": 279
        },
        "id": "_TYUR4TV57z3",
        "outputId": "0041d0ed-3aae-4a48-83f0-1967e4122da4"
      },
      "execution_count": null,
      "outputs": [
        {
          "output_type": "display_data",
          "data": {
            "text/plain": [
              "<Figure size 432x288 with 2 Axes>"
            ],
            "image/png": "[encoded data removed]"
          },
          "metadata": {
            "needs_background": "light"
          }
        }
      ]
    },
    {
      "cell_type": "markdown",
      "source": [
        "much better"
      ],
      "metadata": {
        "id": "HTzwofD7cfR4"
      }
    },
    {
      "cell_type": "code",
      "source": [
        "model_2.save('/content/drive/MyDrive/model/model_2')"
      ],
      "metadata": {
        "colab": {
          "base_uri": "https://localhost:8080/"
        },
        "id": "iw9qm-40VDo-",
        "outputId": "a026d6fc-a0f3-4c15-de7c-a8b59b67f808"
      },
      "execution_count": 57,
      "outputs": [
        {
          "output_type": "stream",
          "name": "stdout",
          "text": [
            "INFO:tensorflow:Assets written to: /content/drive/MyDrive/model/model_2/assets\n"
          ]
        },
        {
          "output_type": "stream",
          "name": "stderr",
          "text": [
            "INFO:tensorflow:Assets written to: /content/drive/MyDrive/model/model_2/assets\n"
          ]
        }
      ]
    },
    {
      "cell_type": "code",
      "source": [
        "model_json = model_2.to_json()\n",
        "with open(\"model.json\", \"w\") as json_file:\n",
        "    json_file.write(model_json)\n",
        "# serialize weights to HDF5\n",
        "model_2.save_weights(\"/content/drive/MyDrive/model/model.h5\")\n",
        "print(\"Saved model to disk\")"
      ],
      "metadata": {
        "colab": {
          "base_uri": "https://localhost:8080/"
        },
        "id": "_gBST3cRF-r2",
        "outputId": "afb57e86-e1f1-4a6c-b500-b06f110c4f53"
      },
      "execution_count": null,
      "outputs": [
        {
          "output_type": "stream",
          "name": "stdout",
          "text": [
            "Saved model to disk\n"
          ]
        }
      ]
    },
    {
      "cell_type": "code",
      "source": [
        "model_2.save('/content/drive/MyDrive/tensorflow_models/model.h5')"
      ],
      "metadata": {
        "id": "I_aC-pBoIwHW"
      },
      "execution_count": null,
      "outputs": []
    },
    {
      "cell_type": "code",
      "source": [
        "loaded_model = tf.keras.models.load_model(('/content/drive/MyDrive/model/model.h5'),custom_objects={'KerasLayer':hub.KerasLayer})"
      ],
      "metadata": {
        "id": "xHpRzLop1Ukw"
      },
      "execution_count": null,
      "outputs": []
    },
    {
      "cell_type": "code",
      "source": [
        "from sklearn.metrics import (\n",
        "    accuracy_score,\n",
        "    confusion_matrix,\n",
        "    log_loss,\n",
        "    precision_score,\n",
        "    recall_score,\n",
        "    f1_score,\n",
        ")\n",
        "\n",
        "class EvaluateModel:\n",
        "    def __init__(self, x_test, y_test, model):\n",
        "        self.x_test = x_test\n",
        "        self.y_test = y_test\n",
        "        self.model = model\n",
        "\n",
        "    def evaluate_model(self):\n",
        "        print(\"Evaluating the model:- \")\n",
        "        y_pred = self.model.predict(self.x_test)\n",
        "        y_pred = tf.argmax(y_pred, axis=1)\n",
        "        print(\"Accuracy Score:- \", accuracy_score(self.y_test, y_pred))\n",
        "        print(\"Precision Score:- \", precision_score(self.y_test, y_pred))\n",
        "        print(\"Recall Score:- \", recall_score(self.y_test, y_pred))\n",
        "        print(\"F1 Score:- \", f1_score(self.y_test, y_pred))\n",
        "        print(\n",
        "            \"Log Loss:- \", log_loss(self.y_test, self.model.predict_proba(self.x_test))\n",
        "        )\n",
        "        print(\"Completed evaluating the model\")"
      ],
      "metadata": {
        "id": "o8uZzyUo4XTn"
      },
      "execution_count": null,
      "outputs": []
    },
    {
      "cell_type": "code",
      "source": [
        "y_pred = tf.argmax(loaded_model.predict(test_sentences), axis=1)"
      ],
      "metadata": {
        "id": "099VUWZk7MGU"
      },
      "execution_count": null,
      "outputs": []
    },
    {
      "cell_type": "code",
      "source": [
        "accuracy_score(y_pred, test_label_encoded)"
      ],
      "metadata": {
        "colab": {
          "base_uri": "https://localhost:8080/"
        },
        "id": "CRD8VW-37Ya4",
        "outputId": "d5e1996d-a637-403b-e900-b38c7acaa406"
      },
      "execution_count": null,
      "outputs": [
        {
          "output_type": "execute_result",
          "data": {
            "text/plain": [
              "0.76"
            ]
          },
          "metadata": {},
          "execution_count": 54
        }
      ]
    }
  ]
}